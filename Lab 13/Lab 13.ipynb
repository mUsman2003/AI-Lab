{
 "cells": [
  {
   "cell_type": "code",
   "execution_count": 6,
   "id": "869dec2d",
   "metadata": {},
   "outputs": [],
   "source": [
    "# Import libraries\n",
    "import pandas as pd\n",
    "import numpy as np\n",
    "from collections import Counter\n",
    "from sklearn.model_selection import train_test_split\n"
   ]
  },
  {
   "cell_type": "code",
   "execution_count": 7,
   "id": "782f71a2",
   "metadata": {},
   "outputs": [
    {
     "name": "stdout",
     "output_type": "stream",
     "text": [
      "Columns: ['Age', 'Gender', 'Polyuria', 'Polydipsia', 'sudden weight loss', 'weakness', 'Polyphagia', 'Genital thrush', 'visual blurring', 'Itching', 'Irritability', 'delayed healing', 'partial paresis', 'muscle stiffness', 'Alopecia', 'Obesity', 'class']\n"
     ]
    }
   ],
   "source": [
    "# Load the dataset\n",
    "data = pd.read_csv('Lab 13\\\\diabetes_data_upload.csv')\n",
    "\n",
    "# View column names\n",
    "print(\"Columns:\", data.columns.tolist())\n",
    "\n",
    "# Let's assume 'class' is the target.\n",
    "TARGET = 'class'\n"
   ]
  },
  {
   "cell_type": "code",
   "execution_count": 8,
   "id": "c75605d8",
   "metadata": {},
   "outputs": [],
   "source": [
    "# Binning numerical attributes (e.g., Age)\n",
    "def bin_age(age):\n",
    "    if age < 30:\n",
    "        return '<30'\n",
    "    elif age <= 50:\n",
    "        return '30-50'\n",
    "    else:\n",
    "        return '>50'\n",
    "\n",
    "# Apply binning\n",
    "if 'Age' in data.columns:\n",
    "    data['Age'] = data['Age'].apply(bin_age)\n",
    "\n",
    "# If other numerical features exist, bin similarly if needed\n"
   ]
  },
  {
   "cell_type": "markdown",
   "id": "8693b9ee",
   "metadata": {},
   "source": [
    "Split the data into a test and training set"
   ]
  },
  {
   "cell_type": "code",
   "execution_count": 9,
   "id": "87641b75",
   "metadata": {},
   "outputs": [
    {
     "name": "stdout",
     "output_type": "stream",
     "text": [
      "Train set size: (416, 16)\n",
      "Test set size: (104, 16)\n"
     ]
    }
   ],
   "source": [
    "#split here\n",
    "X = data.drop(columns=[TARGET])\n",
    "y = data[TARGET]\n",
    "\n",
    "# Split into train and test sets (80% train, 20% test)\n",
    "X_train, X_test, y_train, y_test = train_test_split(X, y, test_size=0.2, random_state=42)\n",
    "\n",
    "# Optional: print shape to verify\n",
    "print(\"Train set size:\", X_train.shape)\n",
    "print(\"Test set size:\", X_test.shape)"
   ]
  },
  {
   "cell_type": "markdown",
   "id": "fbba033d",
   "metadata": {},
   "source": [
    "Implement the entropy function"
   ]
  },
  {
   "cell_type": "code",
   "execution_count": 23,
   "id": "e8e8804a",
   "metadata": {},
   "outputs": [],
   "source": [
    "# Function to calculate entropy\n",
    "def entropy(column):\n",
    "    counts = Counter(column)\n",
    "    total = len(column)\n",
    "    \n",
    "    entropy_value = 0\n",
    "    for count in counts.values():\n",
    "        probability = count / total\n",
    "        if probability > 0:\n",
    "            entropy_value -= probability * np.log2(probability)\n",
    "    \n",
    "    return entropy_value\n"
   ]
  },
  {
   "cell_type": "markdown",
   "id": "82b46165",
   "metadata": {},
   "source": [
    "Implement the info gain function"
   ]
  },
  {
   "cell_type": "code",
   "execution_count": 16,
   "id": "367fa60a",
   "metadata": {},
   "outputs": [],
   "source": [
    "# Function to calculate information gain\n",
    "def information_gain(data, split_attr, target_attr=TARGET):\n",
    "        total_entropy=entropy(data[target_attr])\n",
    "        weight_entropy=0\n",
    "        for val in data[split_attr].unique():\n",
    "                subset=data[data[split_attr]==val]\n",
    "                weight=len(subset)/len(data)\n",
    "                weight_entropy+=weight*entropy(subset[target_attr])\n",
    "        info_gain=total_entropy-weight_entropy\n",
    "        return info_gain\n"
   ]
  },
  {
   "cell_type": "markdown",
   "id": "c8f7accf",
   "metadata": {},
   "source": [
    "Implement the ID3 algo"
   ]
  },
  {
   "cell_type": "code",
   "execution_count": 17,
   "id": "5afa127a",
   "metadata": {},
   "outputs": [],
   "source": [
    "# ID3 algorithm\n",
    "def id3(data, original_data, features, target_attr=TARGET, parent_node_class=None):\n",
    "        if len(data) == 0:\n",
    "                return Counter(original_data[target_attr]).most_common(1)[0][0]\n",
    "        elif len(data[target_attr].unique()) == 1:\n",
    "                return data[target_attr].iloc[0]\n",
    "        elif len(features) == 0:\n",
    "                return Counter(data[target_attr]).most_common(1)[0][0]\n",
    "        else:\n",
    "                parent_node_class = Counter(data[target_attr]).most_common(1)[0][0]\n",
    "                \n",
    "                info_gains = {feature: information_gain(data, feature) for feature in features}\n",
    "                best_feature = max(info_gains, key=info_gains.get)\n",
    "                \n",
    "                tree = {best_feature: {}}\n",
    "                \n",
    "                for value in data[best_feature].unique():\n",
    "                        subset = data[data[best_feature] == value]\n",
    "                        new_features = [f for f in features if f != best_feature]\n",
    "                        subtree = id3(subset, data, new_features, target_attr, parent_node_class)\n",
    "                        tree[best_feature][value] = subtree\n",
    "                \n",
    "        return tree\n"
   ]
  },
  {
   "cell_type": "markdown",
   "id": "5103c33d",
   "metadata": {},
   "source": [
    "Prediction Function"
   ]
  },
  {
   "cell_type": "code",
   "execution_count": 25,
   "id": "e8f2c480",
   "metadata": {},
   "outputs": [],
   "source": [
    "def predict(query, tree, default=None):\n",
    "    if not isinstance(tree, dict):\n",
    "        return tree\n",
    "    attribute = list(tree.keys())[0]\n",
    "    if attribute not in query:\n",
    "        return default\n",
    "    value = query[attribute]\n",
    "    if value not in tree[attribute]:\n",
    "        return default\n",
    "    result = predict(query, tree[attribute][value], default)\n",
    "    return result"
   ]
  },
  {
   "cell_type": "markdown",
   "id": "cf78e354",
   "metadata": {},
   "source": [
    "Implement the testing functiom"
   ]
  },
  {
   "cell_type": "code",
   "execution_count": 12,
   "id": "263d2acc",
   "metadata": {},
   "outputs": [],
   "source": [
    "#testing function\n",
    "def test(data, tree):\n",
    "    predictions = []\n",
    "    for i, row in data.iterrows():\n",
    "        query = row.drop(TARGET).to_dict()\n",
    "        predictions.append(predict(query, tree))\n",
    "    \n",
    "    # Calculate accuracy\n",
    "    actual = data[TARGET].tolist()\n",
    "    correct = sum(1 for a, p in zip(actual, predictions) if a == p)\n",
    "    \n",
    "    accuracy = correct / len(actual)\n",
    "    print(f\"Accuracy: {accuracy:.4f} ({correct}/{len(actual)} correct)\")\n",
    "    \n",
    "    # Create and display confusion matrix\n",
    "    classes = sorted(data[TARGET].unique())\n",
    "    cm = [[0 for _ in classes] for _ in classes]\n",
    "    \n",
    "    for actual_class, pred_class in zip(actual, predictions):\n",
    "        i = classes.index(actual_class)\n",
    "        j = classes.index(pred_class) if pred_class in classes else 0\n",
    "        cm[i][j] += 1\n",
    "    \n",
    "    print(\"\\nConfusion Matrix:\")\n",
    "    print(\" \" * 10, end=\"\")\n",
    "    for c in classes:\n",
    "        print(f\"{c:>10}\", end=\"\")\n",
    "    print()\n",
    "    \n",
    "    for i, row in enumerate(cm):\n",
    "        print(f\"{classes[i]:>10}\", end=\"\")\n",
    "        for cell in row:\n",
    "            print(f\"{cell:>10}\", end=\"\")\n",
    "        print()\n",
    "    \n",
    "    return accuracy\n",
    "    \n"
   ]
  },
  {
   "cell_type": "markdown",
   "id": "85bb8637",
   "metadata": {},
   "source": [
    "The rest of the stuff has been implemented for you"
   ]
  },
  {
   "cell_type": "code",
   "execution_count": 13,
   "id": "4972b83c",
   "metadata": {},
   "outputs": [],
   "source": [
    "#  tree visualization\n",
    "def print_tree(tree, indent=\"\"):\n",
    "    if not isinstance(tree, dict):\n",
    "        print(indent + \"->\", tree)\n",
    "        return\n",
    "    for attr, branches in tree.items():\n",
    "        for value, subtree in branches.items():\n",
    "            print(indent + f\"[{attr} = {value}]\")\n",
    "            print_tree(subtree, indent + \"  \")\n"
   ]
  },
  {
   "cell_type": "code",
   "execution_count": 28,
   "id": "7dd58cbf",
   "metadata": {},
   "outputs": [
    {
     "name": "stdout",
     "output_type": "stream",
     "text": [
      "[Polyuria = No]\n",
      "  [Gender = Male]\n",
      "    [Polydipsia = Yes]\n",
      "      [Irritability = No]\n",
      "        [muscle stiffness = Yes]\n",
      "          [visual blurring = No]\n",
      "            -> Positive\n",
      "          [visual blurring = Yes]\n",
      "            -> Negative\n",
      "        [muscle stiffness = No]\n",
      "          [partial paresis = No]\n",
      "            -> Positive\n",
      "          [partial paresis = Yes]\n",
      "            [Age = >50]\n",
      "              -> Positive\n",
      "            [Age = 30-50]\n",
      "              -> Negative\n",
      "      [Irritability = Yes]\n",
      "        -> Positive\n",
      "    [Polydipsia = No]\n",
      "      [Irritability = No]\n",
      "        [weakness = Yes]\n",
      "          [Itching = No]\n",
      "            [Alopecia = Yes]\n",
      "              [sudden weight loss = No]\n",
      "                -> Positive\n",
      "              [sudden weight loss = Yes]\n",
      "                -> Negative\n",
      "            [Alopecia = No]\n",
      "              -> Negative\n",
      "          [Itching = Yes]\n",
      "            [Alopecia = No]\n",
      "              [Age = 30-50]\n",
      "                -> Positive\n",
      "              [Age = >50]\n",
      "                -> Negative\n",
      "            [Alopecia = Yes]\n",
      "              -> Negative\n",
      "        [weakness = No]\n",
      "          [partial paresis = Yes]\n",
      "            -> Positive\n",
      "          [partial paresis = No]\n",
      "            -> Negative\n",
      "      [Irritability = Yes]\n",
      "        [Genital thrush = Yes]\n",
      "          -> Positive\n",
      "        [Genital thrush = No]\n",
      "          [Polyphagia = Yes]\n",
      "            [Age = 30-50]\n",
      "              -> Positive\n",
      "            [Age = >50]\n",
      "              -> Negative\n",
      "          [Polyphagia = No]\n",
      "            -> Negative\n",
      "  [Gender = Female]\n",
      "    [Alopecia = No]\n",
      "      [visual blurring = Yes]\n",
      "        -> Positive\n",
      "      [visual blurring = No]\n",
      "        [muscle stiffness = No]\n",
      "          [Age = 30-50]\n",
      "            [Irritability = No]\n",
      "              [weakness = No]\n",
      "                [sudden weight loss = No]\n",
      "                  [Obesity = Yes]\n",
      "                    -> Positive\n",
      "                  [Obesity = No]\n",
      "                    [Polydipsia = No]\n",
      "                      [Polyphagia = No]\n",
      "                        [Genital thrush = No]\n",
      "                          [Itching = No]\n",
      "                            [delayed healing = No]\n",
      "                              [partial paresis = No]\n",
      "                                -> Positive\n",
      "                [sudden weight loss = Yes]\n",
      "                  -> Negative\n",
      "              [weakness = Yes]\n",
      "                -> Positive\n",
      "            [Irritability = Yes]\n",
      "              -> Negative\n",
      "          [Age = >50]\n",
      "            -> Positive\n",
      "          [Age = <30]\n",
      "            -> Negative\n",
      "        [muscle stiffness = Yes]\n",
      "          -> Positive\n",
      "    [Alopecia = Yes]\n",
      "      [delayed healing = No]\n",
      "        -> Positive\n",
      "      [delayed healing = Yes]\n",
      "        -> Negative\n",
      "[Polyuria = Yes]\n",
      "  [Polydipsia = No]\n",
      "    [Itching = Yes]\n",
      "      [delayed healing = Yes]\n",
      "        [Alopecia = Yes]\n",
      "          [Gender = Male]\n",
      "            [Age = 30-50]\n",
      "              [sudden weight loss = No]\n",
      "                -> Positive\n",
      "              [sudden weight loss = Yes]\n",
      "                -> Negative\n",
      "            [Age = >50]\n",
      "              -> Negative\n",
      "          [Gender = Female]\n",
      "            -> Positive\n",
      "        [Alopecia = No]\n",
      "          -> Positive\n",
      "      [delayed healing = No]\n",
      "        -> Positive\n",
      "    [Itching = No]\n",
      "      -> Positive\n",
      "  [Polydipsia = Yes]\n",
      "    -> Positive\n",
      "Accuracy: 0.9942 (517/520 correct)\n",
      "\n",
      "Confusion Matrix:\n",
      "            Negative  Positive\n",
      "  Negative       197         3\n",
      "  Positive         0       320\n",
      "Example prediction: Positive\n"
     ]
    }
   ],
   "source": [
    "# Prepare features list\n",
    "features = data.columns.tolist()\n",
    "features.remove(TARGET)\n",
    "\n",
    "# Build the decision tree\n",
    "tree = id3(data, data, features)\n",
    "\n",
    "# Display the tree\n",
    "print_tree(tree)\n",
    "\n",
    "\n",
    "# Test accuracy on the same data (since no train-test split here)\n",
    "test(data, tree)\n",
    "\n",
    "# Predict on a single new instance (example)\n",
    "example_query = {col: data[col].iloc[22] for col in features}\n",
    "print(\"Example prediction:\", predict(example_query, tree))\n"
   ]
  },
  {
   "cell_type": "markdown",
   "id": "6de9a171",
   "metadata": {},
   "source": []
  }
 ],
 "metadata": {
  "kernelspec": {
   "display_name": "Python 3 (ipykernel)",
   "language": "python",
   "name": "python3"
  },
  "language_info": {
   "codemirror_mode": {
    "name": "ipython",
    "version": 3
   },
   "file_extension": ".py",
   "mimetype": "text/x-python",
   "name": "python",
   "nbconvert_exporter": "python",
   "pygments_lexer": "ipython3",
   "version": "3.12.6"
  }
 },
 "nbformat": 4,
 "nbformat_minor": 5
}
