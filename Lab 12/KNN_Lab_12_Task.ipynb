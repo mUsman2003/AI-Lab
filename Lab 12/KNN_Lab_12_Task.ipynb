{
  "cells": [
    {
      "cell_type": "markdown",
      "metadata": {
        "id": "Y8nQqfHpQKR1"
      },
      "source": [
        "# **Lab Task: Build K‑Nearest Neighbors (KNN) Classifier from Scratch**"
      ]
    },
    {
      "cell_type": "markdown",
      "metadata": {
        "id": "yMUPdDyXQ-oJ"
      },
      "source": [
        "## **Objective :**\n",
        "- Implement the KNN classification algorithm in Python without using scikit‑learn’s KNeighborsClassifier.\n",
        "\n",
        "- Practice data loading, cleaning, feature scaling, and train/test splitting.\n",
        "\n",
        "- Evaluate your classifier’s performance using accuracy, precision, recall, and a confusion matrix."
      ]
    },
    {
      "cell_type": "code",
      "execution_count": 27,
      "metadata": {
        "id": "I4CwIoFrRvaZ"
      },
      "outputs": [],
      "source": [
        "import numpy as np\n",
        "import pandas as pd\n",
        "import seaborn as sns\n",
        "import matplotlib.pyplot as plt\n",
        "from sklearn.model_selection import train_test_split\n",
        "import time\n",
        "from sklearn.preprocessing import StandardScaler\n",
        "from sklearn.metrics import accuracy_score, precision_score, recall_score, f1_score,confusion_matrix, classification_report"
      ]
    },
    {
      "cell_type": "markdown",
      "metadata": {
        "id": "tolqedUFRgJo"
      },
      "source": [
        "## **1. Data loading**\n"
      ]
    },
    {
      "cell_type": "code",
      "execution_count": 28,
      "metadata": {},
      "outputs": [
        {
          "data": {
            "text/html": [
              "<div>\n",
              "<style scoped>\n",
              "    .dataframe tbody tr th:only-of-type {\n",
              "        vertical-align: middle;\n",
              "    }\n",
              "\n",
              "    .dataframe tbody tr th {\n",
              "        vertical-align: top;\n",
              "    }\n",
              "\n",
              "    .dataframe thead th {\n",
              "        text-align: right;\n",
              "    }\n",
              "</style>\n",
              "<table border=\"1\" class=\"dataframe\">\n",
              "  <thead>\n",
              "    <tr style=\"text-align: right;\">\n",
              "      <th></th>\n",
              "      <th>diagnosis</th>\n",
              "      <th>radius_mean</th>\n",
              "      <th>texture_mean</th>\n",
              "      <th>perimeter_mean</th>\n",
              "      <th>area_mean</th>\n",
              "      <th>smoothness_mean</th>\n",
              "      <th>compactness_mean</th>\n",
              "      <th>concavity_mean</th>\n",
              "      <th>concave points_mean</th>\n",
              "      <th>symmetry_mean</th>\n",
              "      <th>...</th>\n",
              "      <th>texture_worst</th>\n",
              "      <th>perimeter_worst</th>\n",
              "      <th>area_worst</th>\n",
              "      <th>smoothness_worst</th>\n",
              "      <th>compactness_worst</th>\n",
              "      <th>concavity_worst</th>\n",
              "      <th>concave points_worst</th>\n",
              "      <th>symmetry_worst</th>\n",
              "      <th>fractal_dimension_worst</th>\n",
              "      <th>Unnamed: 32</th>\n",
              "    </tr>\n",
              "  </thead>\n",
              "  <tbody>\n",
              "    <tr>\n",
              "      <th>0</th>\n",
              "      <td>M</td>\n",
              "      <td>17.99</td>\n",
              "      <td>10.38</td>\n",
              "      <td>122.80</td>\n",
              "      <td>1001.0</td>\n",
              "      <td>0.11840</td>\n",
              "      <td>0.27760</td>\n",
              "      <td>0.3001</td>\n",
              "      <td>0.14710</td>\n",
              "      <td>0.2419</td>\n",
              "      <td>...</td>\n",
              "      <td>17.33</td>\n",
              "      <td>184.60</td>\n",
              "      <td>2019.0</td>\n",
              "      <td>0.1622</td>\n",
              "      <td>0.6656</td>\n",
              "      <td>0.7119</td>\n",
              "      <td>0.2654</td>\n",
              "      <td>0.4601</td>\n",
              "      <td>0.11890</td>\n",
              "      <td>NaN</td>\n",
              "    </tr>\n",
              "    <tr>\n",
              "      <th>1</th>\n",
              "      <td>M</td>\n",
              "      <td>20.57</td>\n",
              "      <td>17.77</td>\n",
              "      <td>132.90</td>\n",
              "      <td>1326.0</td>\n",
              "      <td>0.08474</td>\n",
              "      <td>0.07864</td>\n",
              "      <td>0.0869</td>\n",
              "      <td>0.07017</td>\n",
              "      <td>0.1812</td>\n",
              "      <td>...</td>\n",
              "      <td>23.41</td>\n",
              "      <td>158.80</td>\n",
              "      <td>1956.0</td>\n",
              "      <td>0.1238</td>\n",
              "      <td>0.1866</td>\n",
              "      <td>0.2416</td>\n",
              "      <td>0.1860</td>\n",
              "      <td>0.2750</td>\n",
              "      <td>0.08902</td>\n",
              "      <td>NaN</td>\n",
              "    </tr>\n",
              "    <tr>\n",
              "      <th>2</th>\n",
              "      <td>M</td>\n",
              "      <td>19.69</td>\n",
              "      <td>21.25</td>\n",
              "      <td>130.00</td>\n",
              "      <td>1203.0</td>\n",
              "      <td>0.10960</td>\n",
              "      <td>0.15990</td>\n",
              "      <td>0.1974</td>\n",
              "      <td>0.12790</td>\n",
              "      <td>0.2069</td>\n",
              "      <td>...</td>\n",
              "      <td>25.53</td>\n",
              "      <td>152.50</td>\n",
              "      <td>1709.0</td>\n",
              "      <td>0.1444</td>\n",
              "      <td>0.4245</td>\n",
              "      <td>0.4504</td>\n",
              "      <td>0.2430</td>\n",
              "      <td>0.3613</td>\n",
              "      <td>0.08758</td>\n",
              "      <td>NaN</td>\n",
              "    </tr>\n",
              "    <tr>\n",
              "      <th>3</th>\n",
              "      <td>M</td>\n",
              "      <td>11.42</td>\n",
              "      <td>20.38</td>\n",
              "      <td>77.58</td>\n",
              "      <td>386.1</td>\n",
              "      <td>0.14250</td>\n",
              "      <td>0.28390</td>\n",
              "      <td>0.2414</td>\n",
              "      <td>0.10520</td>\n",
              "      <td>0.2597</td>\n",
              "      <td>...</td>\n",
              "      <td>26.50</td>\n",
              "      <td>98.87</td>\n",
              "      <td>567.7</td>\n",
              "      <td>0.2098</td>\n",
              "      <td>0.8663</td>\n",
              "      <td>0.6869</td>\n",
              "      <td>0.2575</td>\n",
              "      <td>0.6638</td>\n",
              "      <td>0.17300</td>\n",
              "      <td>NaN</td>\n",
              "    </tr>\n",
              "    <tr>\n",
              "      <th>4</th>\n",
              "      <td>M</td>\n",
              "      <td>20.29</td>\n",
              "      <td>14.34</td>\n",
              "      <td>135.10</td>\n",
              "      <td>1297.0</td>\n",
              "      <td>0.10030</td>\n",
              "      <td>0.13280</td>\n",
              "      <td>0.1980</td>\n",
              "      <td>0.10430</td>\n",
              "      <td>0.1809</td>\n",
              "      <td>...</td>\n",
              "      <td>16.67</td>\n",
              "      <td>152.20</td>\n",
              "      <td>1575.0</td>\n",
              "      <td>0.1374</td>\n",
              "      <td>0.2050</td>\n",
              "      <td>0.4000</td>\n",
              "      <td>0.1625</td>\n",
              "      <td>0.2364</td>\n",
              "      <td>0.07678</td>\n",
              "      <td>NaN</td>\n",
              "    </tr>\n",
              "  </tbody>\n",
              "</table>\n",
              "<p>5 rows × 32 columns</p>\n",
              "</div>"
            ],
            "text/plain": [
              "  diagnosis  radius_mean  texture_mean  perimeter_mean  area_mean  \\\n",
              "0         M        17.99         10.38          122.80     1001.0   \n",
              "1         M        20.57         17.77          132.90     1326.0   \n",
              "2         M        19.69         21.25          130.00     1203.0   \n",
              "3         M        11.42         20.38           77.58      386.1   \n",
              "4         M        20.29         14.34          135.10     1297.0   \n",
              "\n",
              "   smoothness_mean  compactness_mean  concavity_mean  concave points_mean  \\\n",
              "0          0.11840           0.27760          0.3001              0.14710   \n",
              "1          0.08474           0.07864          0.0869              0.07017   \n",
              "2          0.10960           0.15990          0.1974              0.12790   \n",
              "3          0.14250           0.28390          0.2414              0.10520   \n",
              "4          0.10030           0.13280          0.1980              0.10430   \n",
              "\n",
              "   symmetry_mean  ...  texture_worst  perimeter_worst  area_worst  \\\n",
              "0         0.2419  ...          17.33           184.60      2019.0   \n",
              "1         0.1812  ...          23.41           158.80      1956.0   \n",
              "2         0.2069  ...          25.53           152.50      1709.0   \n",
              "3         0.2597  ...          26.50            98.87       567.7   \n",
              "4         0.1809  ...          16.67           152.20      1575.0   \n",
              "\n",
              "   smoothness_worst  compactness_worst  concavity_worst  concave points_worst  \\\n",
              "0            0.1622             0.6656           0.7119                0.2654   \n",
              "1            0.1238             0.1866           0.2416                0.1860   \n",
              "2            0.1444             0.4245           0.4504                0.2430   \n",
              "3            0.2098             0.8663           0.6869                0.2575   \n",
              "4            0.1374             0.2050           0.4000                0.1625   \n",
              "\n",
              "   symmetry_worst  fractal_dimension_worst  Unnamed: 32  \n",
              "0          0.4601                  0.11890          NaN  \n",
              "1          0.2750                  0.08902          NaN  \n",
              "2          0.3613                  0.08758          NaN  \n",
              "3          0.6638                  0.17300          NaN  \n",
              "4          0.2364                  0.07678          NaN  \n",
              "\n",
              "[5 rows x 32 columns]"
            ]
          },
          "execution_count": 28,
          "metadata": {},
          "output_type": "execute_result"
        }
      ],
      "source": [
        "df = pd.read_csv('data.csv', index_col='id').reset_index(drop=True)\n",
        "df.head()"
      ]
    },
    {
      "cell_type": "markdown",
      "metadata": {
        "id": "AfjQ3sHXTXY1"
      },
      "source": [
        "## **2. Data Preprocessing**\n",
        "\n",
        "- **Identify missing values**\n",
        "- **Handle missing data (choose one)**\n",
        "- **Feature scaling**\n",
        "- **Train/Test split**: Split into 70% train / 30% test (use random_state=42)."
      ]
    },
    {
      "cell_type": "code",
      "execution_count": 29,
      "metadata": {
        "id": "vSSvsjV_TWvc"
      },
      "outputs": [
        {
          "name": "stdout",
          "output_type": "stream",
          "text": [
            "X shape: (569, 30)\n",
            "y shape: (569,)\n",
            "Feature columns: ['radius_mean', 'texture_mean', 'perimeter_mean', 'area_mean', 'smoothness_mean', 'compactness_mean', 'concavity_mean', 'concave points_mean', 'symmetry_mean', 'fractal_dimension_mean', 'radius_se', 'texture_se', 'perimeter_se', 'area_se', 'smoothness_se', 'compactness_se', 'concavity_se', 'concave points_se', 'symmetry_se', 'fractal_dimension_se', 'radius_worst', 'texture_worst', 'perimeter_worst', 'area_worst', 'smoothness_worst', 'compactness_worst', 'concavity_worst', 'concave points_worst', 'symmetry_worst', 'fractal_dimension_worst']\n",
            "Training set size: (398, 30)\n",
            "Test set size: (171, 30)\n",
            "Any overlap between train and test? True\n"
          ]
        }
      ],
      "source": [
        "#print(\"Missing values:\\n\", df.isnull().sum())\n",
        "\n",
        "df = df.drop(columns=['Unnamed: 32'])\n",
        "\n",
        "df['diagnosis'] = df['diagnosis'].map({'M': 1, 'B': 0})\n",
        "\n",
        "X = df.drop(columns=['diagnosis']).values\n",
        "y = df['diagnosis'].values\n",
        "\n",
        "#feature scalin\n",
        "scaler = StandardScaler()\n",
        "X = scaler.fit_transform(X)\n",
        "\n",
        "print(\"X shape:\", X.shape)  \n",
        "print(\"y shape:\", y.shape)  \n",
        "print(\"Feature columns:\", df.drop(columns=['diagnosis']).columns.tolist())\n",
        "X_train, X_test, y_train, y_test = train_test_split(X, y, test_size=0.3, random_state=42)\n",
        "#print(\"Missing values:\\n\", df.isnull().sum())\n",
        "print(\"Training set size:\", X_train.shape)\n",
        "print(\"Test set size:\", X_test.shape)\n",
        "print(\"Any overlap between train and test?\", np.any(np.isin(X_test, X_train)))"
      ]
    },
    {
      "cell_type": "markdown",
      "metadata": {
        "id": "H8iVsfERQHSk"
      },
      "source": [
        "## **Implement KNN Class**"
      ]
    },
    {
      "cell_type": "code",
      "execution_count": 30,
      "metadata": {
        "id": "BvDt0ObhUQkV"
      },
      "outputs": [],
      "source": [
        "class kNN():\n",
        "    # Initialise\n",
        "    def __init__(self, k=3, metric='euclidean', p=None):\n",
        "        self.k = k\n",
        "        self.metric = metric\n",
        "        self.p = p\n",
        "\n",
        "    # Euclidean distance (l2 norm)\n",
        "    def euclidean(self, v1, v2):\n",
        "      return np.sqrt(np.sum((v1 - v2) ** 2))\n",
        "\n",
        "    # Manhattan distance (l1 norm)\n",
        "    def manhattan(self, v1, v2):\n",
        "      return np.sum(np.abs(v1 - v2))\n",
        "\n",
        "    # Minkowski distance (lp norm)\n",
        "    def minkowski(self, v1, v2, p=2):\n",
        "      return np.sum(np.abs(v1 - v2) ** p) ** (1 / p)\n",
        "\n",
        "    # Store train set\n",
        "    def fit(self, X_train, y_train):\n",
        "      self.X_train = X_train\n",
        "      self.y_train = y_train\n",
        "\n",
        "    # Make predictions\n",
        "    def predict(self, X_test):\n",
        "      # Loop over rows in test set\n",
        "      predictions = []\n",
        "      for testRow in X_test:\n",
        "         neighbors = self.get_neighbours(testRow)\n",
        "         labels = [self.y_train[idx] for idx in neighbors]\n",
        "         prediction = max(set(labels), key=labels.count)\n",
        "         predictions.append(prediction)\n",
        "\n",
        "      return np.array(predictions)\n",
        "    # Get nearest neighbours\n",
        "    def get_neighbours(self, test_row):\n",
        "      distances = []\n",
        "\n",
        "      # Calculate distance to all points in X_train\n",
        "      # Sort distances\n",
        "      # Identify k nearest neighbours\n",
        "      for i, trainRow in enumerate(self.X_train):\n",
        "         if self.metric == 'euclidean':\n",
        "            dist = self.euclidean(test_row,trainRow)\n",
        "         if self.metric == 'manhattan':\n",
        "            dist = self.manhattan(test_row,trainRow)\n",
        "         if self.metric == 'minkowski':\n",
        "            dist = self.minkowski(test_row,trainRow)\n",
        "         distances.append((i,dist))\n",
        "      \n",
        "      distances.sort(key=lambda x: x[1])\n",
        "      neighbours = [dist[0] for dist in distances[:self.k]]\n",
        "      return neighbours"
      ]
    },
    {
      "cell_type": "markdown",
      "metadata": {
        "id": "xRm-_1ItaYcE"
      },
      "source": [
        "## **Evaluate the model**\n"
      ]
    },
    {
      "cell_type": "markdown",
      "metadata": {
        "id": "STn1N6yucQJd"
      },
      "source": [
        "Find the following performance matrices results:\n",
        "- Accuracy (overall correct rate)\n",
        "\n",
        "- Precision (true positives ÷ predicted positives)\n",
        "\n",
        "- Recall (true positives ÷ actual positives)\n",
        "\n",
        "- Confusion Matrix\n",
        "\n",
        "- Classfication Report"
      ]
    },
    {
      "cell_type": "code",
      "execution_count": 31,
      "metadata": {
        "id": "db3uYNTUevss"
      },
      "outputs": [
        {
          "name": "stdout",
          "output_type": "stream",
          "text": [
            "Accuracy      : 0.9708\n",
            "Precision     : 0.9677\n",
            "Recall        : 0.9524\n",
            "F1 Score      : 0.9600\n",
            "\n",
            "Confusion Matrix:\n",
            " [[106   2]\n",
            " [  3  60]]\n"
          ]
        },
        {
          "data": {
            "image/png": "[encoded data removed]",
            "text/plain": [
              "<Figure size 600x400 with 1 Axes>"
            ]
          },
          "metadata": {},
          "output_type": "display_data"
        },
        {
          "name": "stdout",
          "output_type": "stream",
          "text": [
            "\n",
            "Classification Report:\n",
            "                precision    recall  f1-score   support\n",
            "\n",
            "   Benign (0)       0.97      0.98      0.98       108\n",
            "Malignant (1)       0.97      0.95      0.96        63\n",
            "\n",
            "     accuracy                           0.97       171\n",
            "    macro avg       0.97      0.97      0.97       171\n",
            " weighted avg       0.97      0.97      0.97       171\n",
            "\n"
          ]
        }
      ],
      "source": [
        "#choosing a train model\n",
        "knn = kNN(k=3, metric='manhattan')\n",
        "knn.fit(X_train, y_train)\n",
        "\n",
        "#predictions\n",
        "yPred = knn.predict(X_test)\n",
        "\n",
        "# 1. Accuracy\n",
        "accuracy = accuracy_score(y_test, yPred)\n",
        "print(f\"Accuracy      : {accuracy:.4f}\")\n",
        "\n",
        "# 2. Precision\n",
        "precision = precision_score(y_test, yPred)\n",
        "print(f\"Precision     : {precision:.4f}\")\n",
        "\n",
        "# 3. Recall\n",
        "recall = recall_score(y_test, yPred)\n",
        "print(f\"Recall        : {recall:.4f}\")\n",
        "\n",
        "# 4. F1 Score\n",
        "f1 = f1_score(y_test, yPred)\n",
        "print(f\"F1 Score      : {f1:.4f}\")\n",
        "\n",
        "# 5. Confusion Matrix\n",
        "conf_matrix = confusion_matrix(y_test, yPred)\n",
        "print(\"\\nConfusion Matrix:\\n\", conf_matrix)\n",
        "\n",
        "# Plot Confusion Matrix\n",
        "plt.figure(figsize=(6, 4))\n",
        "sns.heatmap(\n",
        "    conf_matrix,\n",
        "    annot=True,\n",
        "    fmt='d',\n",
        "    cmap='Blues',\n",
        "    cbar=False,\n",
        "    xticklabels=['Predicted: Benign (0)', 'Predicted: Malignant (1)'],\n",
        "    yticklabels=['Actual: Benign (0)', 'Actual: Malignant (1)']\n",
        ")\n",
        "plt.xlabel('Predicted')\n",
        "plt.ylabel('Actual')\n",
        "plt.title('Confusion Matrix')\n",
        "plt.tight_layout()\n",
        "plt.show()\n",
        "\n",
        "# 6. Classification Report\n",
        "report = classification_report(y_test, yPred, target_names=['Benign (0)', 'Malignant (1)'])\n",
        "print(\"\\nClassification Report:\\n\", report)"
      ]
    },
    {
      "cell_type": "markdown",
      "metadata": {
        "id": "lVR2vTSKekSV"
      },
      "source": [
        "## **Effect of k on Classification Accuracy**\n",
        "\n",
        "- For each k from 3 to 29, fit your k‑NN on the training set and record test accuracy.\n",
        "\n",
        "- Plot k (on the x‑axis) vs. accuracy (on the y‑axis), with markers and clear labels."
      ]
    },
    {
      "cell_type": "code",
      "execution_count": 32,
      "metadata": {
        "id": "irtcAFDsU1v0"
      },
      "outputs": [
        {
          "name": "stdout",
          "output_type": "stream",
          "text": [
            "k=3, Accuracy=0.9708\n",
            "k=4, Accuracy=0.9708\n",
            "k=5, Accuracy=0.9708\n",
            "k=6, Accuracy=0.9708\n",
            "k=7, Accuracy=0.9708\n",
            "k=8, Accuracy=0.9591\n",
            "k=9, Accuracy=0.9649\n",
            "k=10, Accuracy=0.9649\n",
            "k=11, Accuracy=0.9649\n",
            "k=12, Accuracy=0.9649\n",
            "k=13, Accuracy=0.9649\n",
            "k=14, Accuracy=0.9474\n",
            "k=15, Accuracy=0.9532\n",
            "k=16, Accuracy=0.9532\n",
            "k=17, Accuracy=0.9532\n",
            "k=18, Accuracy=0.9532\n",
            "k=19, Accuracy=0.9532\n",
            "k=20, Accuracy=0.9532\n",
            "k=21, Accuracy=0.9532\n",
            "k=22, Accuracy=0.9532\n",
            "k=23, Accuracy=0.9532\n",
            "k=24, Accuracy=0.9532\n",
            "k=25, Accuracy=0.9532\n",
            "k=26, Accuracy=0.9532\n",
            "k=27, Accuracy=0.9532\n",
            "k=28, Accuracy=0.9532\n",
            "k=29, Accuracy=0.9532\n"
          ]
        },
        {
          "data": {
            "image/png": "[encoded data removed]",
            "text/plain": [
              "<Figure size 800x500 with 1 Axes>"
            ]
          },
          "metadata": {},
          "output_type": "display_data"
        }
      ],
      "source": [
        "# Test different k values\n",
        "k_values = range(3, 30)\n",
        "accuracies = []\n",
        "\n",
        "for k in k_values:\n",
        "    knn = kNN(k=k, metric='manhattan')\n",
        "    knn.fit(X_train, y_train)\n",
        "    yPred = knn.predict(X_test)\n",
        "    acc = accuracy_score(y_test, yPred)\n",
        "    accuracies.append(acc)\n",
        "    print(f\"k={k}, Accuracy={acc:.4f}\")\n",
        "\n",
        "# Plot k vs. accuracy\n",
        "plt.figure(figsize=(8, 5))\n",
        "plt.plot(k_values, accuracies, marker='o')\n",
        "plt.xlabel('k')\n",
        "plt.ylabel('Test Accuracy')\n",
        "plt.title('Effect of k on Classification Accuracy')\n",
        "plt.grid(True)\n",
        "plt.show()"
      ]
    }
  ],
  "metadata": {
    "colab": {
      "provenance": []
    },
    "kernelspec": {
      "display_name": "Python 3",
      "name": "python3"
    },
    "language_info": {
      "codemirror_mode": {
        "name": "ipython",
        "version": 3
      },
      "file_extension": ".py",
      "mimetype": "text/x-python",
      "name": "python",
      "nbconvert_exporter": "python",
      "pygments_lexer": "ipython3",
      "version": "3.12.1"
    }
  },
  "nbformat": 4,
  "nbformat_minor": 0
}
