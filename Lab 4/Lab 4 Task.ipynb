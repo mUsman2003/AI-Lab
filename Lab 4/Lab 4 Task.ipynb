{
 "cells": [
  {
   "cell_type": "markdown",
   "metadata": {},
   "source": [
    "# Q1\n",
    "In a computer network, data packets must be transmitted efficiently from a source server to a destination server. Each link between routers has a different transmission cost depending on factors such as bandwidth, latency, congestion, or link quality. Your goal is to determine the most cost-efficient route for the data packet to travel from the source to the destination. <br>\n",
    "\n",
    "Problem Setup: The network can be modeled as a graph where:\n",
    "Nodes represent routers in the network.\n",
    "Edges between nodes represent network links, with associated transmission costs. These costs reflect the real-world constraints, such as available bandwidth, latency, or congestion level.\n",
    "| Router 1 | Router 2 | Transmission Cost |\n",
    "|----------|----------|-------------------|\n",
    "| A        | B        | 4                 |\n",
    "| A        | C        | 2                 |\n",
    "| B        | D        | 3                 |\n",
    "| C        | D        | 1                 |\n",
    "| C        | E        | 7                 |\n",
    "| D        | F        | 5                 |\n",
    "| E        | F        | 3                 |\n",
    "\n",
    "\n",
    "The task is to find the least costly path for the data packet to travel from the source server (Router A) to the destination server (Router F) using Uniform Cost Search (UCS).\n",
    "\n",
    "Example Output:\n",
    "Using UCS, the algorithm should explore paths such as:\n",
    "\n",
    "A → C → D → F (total cost: 2 + 1 + 5 = 8) <br>\n",
    "A → B → D → F (total cost: 4 + 3 + 5 = 12)"
   ]
  },
  {
   "cell_type": "code",
   "execution_count": null,
   "metadata": {},
   "outputs": [
    {
     "name": "stdout",
     "output_type": "stream",
     "text": [
      "Path: A -> C -> D -> F | Total cost: 8\n",
      "Path: A -> C -> E -> F | Total cost: 12\n"
     ]
    }
   ],
   "source": [
    "import heapq\n",
    "\n",
    "def uniform_cost_search(graph, start, goal):\n",
    "    \n",
    "    priority_queue = [(0, start, [start])]      #Initialize an empty priority queue \n",
    "    visited = set() #Create an empty set\n",
    "    all_paths = [] \n",
    "    \n",
    "    while priority_queue:\n",
    "        #Dequeue node with lowest cost.\n",
    "        cost, node, path = heapq.heappop(priority_queue)\n",
    "    \n",
    "        if node == goal:\n",
    "            all_paths.append((path, cost))\n",
    "            continue  \n",
    "        \n",
    "        if node in visited:\n",
    "            continue\n",
    "        \n",
    "        visited.add(node)\n",
    "        \n",
    "        for neighbor, edge_cost in graph.get(node, []):\n",
    "            new_cost = cost + edge_cost\n",
    "            heapq.heappush(priority_queue, (new_cost, neighbor, path + [neighbor]))\n",
    "    \n",
    "    if not all_paths:\n",
    "        return [(\"No path found!\")]\n",
    "    return all_paths\n",
    "\n",
    "graph = {\n",
    "    'A': [('B', 4), ('C', 2)],\n",
    "    'B': [('D', 3)],\n",
    "    'C': [('D', 1), ('E', 7)],\n",
    "    'D': [('F', 5)],\n",
    "    'E': [('F', 3)],\n",
    "    'F': []\n",
    "}\n",
    "\n",
    "# Run UCS\n",
    "all_paths = uniform_cost_search(graph, 'A', 'F')\n",
    "for path, cost in all_paths:\n",
    "    print(\"Path:\", \" -> \".join(path), \"| Total cost:\", cost)\n"
   ]
  },
  {
   "cell_type": "markdown",
   "metadata": {},
   "source": [
    "# Q2 Word Ladder Puzzle"
   ]
  },
  {
   "cell_type": "code",
   "execution_count": null,
   "metadata": {},
   "outputs": [],
   "source": [
    "import heapq\n",
    "\n",
    "def hamming_distance(word1, word2):\n",
    "    \"\"\"Compute the number of differing letters between two words.\"\"\"\n",
    "    \n",
    "    return sum(c1 != c2 for c1, c2 in zip(word1, word2))\n",
    "\n",
    "def print_difference(word1, word2):\n",
    "    \"\"\"Print the letter differences between two words.\"\"\"\n",
    "    \n",
    "    differences = [(c1, c2) for c1, c2 in zip(word1, word2) if c1 != c2]\n",
    "    print(f\"{word1} → {word2} (Differs in {len(differences)} places: {', '.join(f'{c1}→{c2}' for c1, c2 in differences)})\")\n",
    "    \n",
    "def greedy_best_first_search(start, goal, word_list):\n",
    "    \"\"\"Find a path from start to goal using Greedy Best-First Search.\"\"\"\n",
    "    \n",
    "    priority_queue = [(hamming_distance(start, goal), start, [start])]\n",
    "    visited = set()\n",
    "    \n",
    "    while priority_queue:\n",
    "        _, current, path = heapq.heappop(priority_queue)\n",
    "        \n",
    "        if current == goal:\n",
    "            for i in range(len(path) - 2):\n",
    "                print_difference(path[i+1],goal)\n",
    "            return path\n",
    "        \n",
    "        visited.add(current)\n",
    "        \n",
    "        for word in word_list:\n",
    "            if word not in visited and hamming_distance(current, word) == 1:\n",
    "                heapq.heappush(priority_queue, (hamming_distance(word, goal), word, path + [word]))\n",
    "    \n",
    "    return \"No possible path found!\"\n",
    "\n"
   ]
  },
  {
   "cell_type": "markdown",
   "metadata": {},
   "source": [
    "# Test cases\n"
   ]
  },
  {
   "cell_type": "code",
   "execution_count": 33,
   "metadata": {},
   "outputs": [
    {
     "name": "stdout",
     "output_type": "stream",
     "text": [
      "hot → cog (Differs in 2 places: h→c, t→g)\n",
      "dot → cog (Differs in 2 places: d→c, t→g)\n",
      "dog → cog (Differs in 1 places: d→c)\n",
      "['hit', 'hot', 'dot', 'dog', 'cog']\n",
      "\n"
     ]
    }
   ],
   "source": [
    "start = \"hit\"\n",
    "goal = \"cog\"\n",
    "word_list = [\"hit\", \"hot\", \"dot\", \"dog\", \"cog\", \"lot\", \"log\"]\n",
    "\n",
    "print(greedy_best_first_search(start, goal, word_list))\n",
    "print()\n"
   ]
  },
  {
   "cell_type": "code",
   "execution_count": 34,
   "metadata": {},
   "outputs": [
    {
     "name": "stdout",
     "output_type": "stream",
     "text": [
      "load → gold (Differs in 2 places: l→g, a→l)\n",
      "goad → gold (Differs in 1 places: a→l)\n",
      "['lead', 'load', 'goad', 'gold']\n"
     ]
    }
   ],
   "source": [
    "start = \"lead\"\n",
    "goal = \"gold\"\n",
    "word_list = [\"lead\", \"load\", \"goad\", \"gold\", \"goat\", \"geat\", \"lold\"]\n",
    "\n",
    "print(greedy_best_first_search(start, goal, word_list))\n"
   ]
  },
  {
   "cell_type": "code",
   "execution_count": 35,
   "metadata": {},
   "outputs": [
    {
     "name": "stdout",
     "output_type": "stream",
     "text": [
      "cord → warm (Differs in 3 places: c→w, o→a, d→m)\n",
      "card → warm (Differs in 2 places: c→w, d→m)\n",
      "ward → warm (Differs in 1 places: d→m)\n",
      "['cold', 'cord', 'card', 'ward', 'warm']\n"
     ]
    }
   ],
   "source": [
    "start = \"cold\"\n",
    "goal = \"warm\"\n",
    "word_list = [\n",
    "    \"cold\", \"cord\", \"card\", \"ward\", \"warm\", \n",
    "    \"core\", \"wore\", \"ware\", \"worm\", \"corm\", \"word\"\n",
    "]\n",
    "\n",
    "print(greedy_best_first_search(start, goal, word_list))\n"
   ]
  },
  {
   "cell_type": "code",
   "execution_count": null,
   "metadata": {},
   "outputs": [],
   "source": []
  }
 ],
 "metadata": {
  "kernelspec": {
   "display_name": "Python 3 (ipykernel)",
   "language": "python",
   "name": "python3"
  }
 },
 "nbformat": 4,
 "nbformat_minor": 2
}
