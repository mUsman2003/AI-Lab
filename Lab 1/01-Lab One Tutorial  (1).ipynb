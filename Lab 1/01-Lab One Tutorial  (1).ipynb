{
 "cells": [
  {
   "cell_type": "code",
   "execution_count": null,
   "id": "7fd24381",
   "metadata": {},
   "outputs": [],
   "source": [
    "5+5"
   ]
  },
  {
   "cell_type": "code",
   "execution_count": null,
   "id": "a710c406",
   "metadata": {},
   "outputs": [],
   "source": [
    "#Intro To Dataypes\n",
    "# You don't have to tell the type of variable \n",
    "\n",
    "apples = 5\n",
    "price_of_apples = 5.6\n",
    "brand_of_appls = \"Telso\"\n",
    "\n",
    "print(brand_of_appls + str(apples))\n"
   ]
  },
  {
   "cell_type": "code",
   "execution_count": 1,
   "id": "c79fa559",
   "metadata": {},
   "outputs": [
    {
     "name": "stdout",
     "output_type": "stream",
     "text": [
      "Hello I am here !\n",
      "one\n",
      "two\n",
      "three\n",
      "\n",
      "\n",
      "Hello I am here\n",
      ".Ok?\n",
      "hi are u ok Sara\n",
      "Sarah are u 18?\n",
      "Faizan\n",
      "5\n",
      "10\n"
     ]
    }
   ],
   "source": [
    "#--------------------#\n",
    "#  Input and Output  #\n",
    "#--------------------#\n",
    "\n",
    "\n",
    "#----1. Output with print ----\n",
    "\n",
    "# -- output one line\n",
    "print ('Hello I am here !')\n",
    "\n",
    "# -- output in next lines\n",
    "print(\"\"\"one\n",
    "two\n",
    "three\n",
    "\n",
    "\"\"\")\n",
    "\n",
    "# -- next line\n",
    "print(\"Hello I am here\\n.Ok?\")\n",
    "\n",
    "# -- print different datatypes\n",
    "name = 'Sara'\n",
    "print(f'hi are u ok {name}')\n",
    "\n",
    "age = 18\n",
    "print(f'Sarah are u {age}?')\n",
    "\n",
    "#----1. Input from pc ----\n",
    "\n",
    "# -- string\n",
    "name = input('What is ur name ?')\n",
    "print(name)\n",
    "\n",
    "# -- int\n",
    "number = input('What is your age ?')\n",
    "print(number)\n",
    "\n",
    "#----2. Typecasting variables\n",
    "print(5+int(number))\n"
   ]
  },
  {
   "cell_type": "code",
   "execution_count": null,
   "id": "3dc9b494",
   "metadata": {},
   "outputs": [],
   "source": [
    "#---------------------#\n",
    "#   Math Operators    #\n",
    "#---------------------#\n",
    "\n",
    "print(5+5)  #add\n",
    "print(5-5)  #sub\n",
    "print(5*5)  #mult\n",
    "print(5/5)  #div\n",
    "print(5%5)  #remainder\n",
    "print(5**2)  #exponent\n"
   ]
  },
  {
   "cell_type": "code",
   "execution_count": null,
   "id": "237a04fc",
   "metadata": {},
   "outputs": [],
   "source": [
    "#-----------------------#\n",
    "#   Logical Operators   #\n",
    "#-----------------------#\n",
    "\n",
    "num1 = 6\n",
    "num2 = 7\n",
    "\n",
    "# >=\n",
    "# <=\n",
    "# ==\n",
    "# !=\n",
    "\n",
    "if num1 > num2:\n",
    "    print('Great')\n",
    "else:\n",
    "    print('Not so great')"
   ]
  },
  {
   "cell_type": "code",
   "execution_count": 2,
   "id": "8035fede",
   "metadata": {},
   "outputs": [
    {
     "name": "stdout",
     "output_type": "stream",
     "text": [
      "The sum is 48\n",
      "I like pop\n",
      "I like rock\n",
      "I like jazz\n",
      "0\n",
      "1\n",
      "5\n",
      "No items left.\n"
     ]
    }
   ],
   "source": [
    "#---------------------#\n",
    "#    For Loop         #\n",
    "#---------------------#\n",
    "\n",
    "# ----1. Looping through List\n",
    "\n",
    "# ---- Get The Value and work with it\n",
    "# Program to find the sum of all numbers stored in a list\n",
    "\n",
    "# List of numbers\n",
    "numbers = [6, 5, 3, 8, 4, 2, 5, 4, 11]\n",
    "\n",
    "# variable to store the sum\n",
    "sum = 0\n",
    "\n",
    "# iterate over the list\n",
    "for val in numbers:\n",
    "    sum = sum+val\n",
    "\n",
    "print(\"The sum is\", sum)\n",
    "\n",
    "# ----- Indexing \n",
    "# Program to iterate through a list using indexing\n",
    "\n",
    "genre = ['pop', 'rock', 'jazz']\n",
    "\n",
    "# iterate over the list using index\n",
    "for i in range(len(genre)):\n",
    "    print(\"I like\", genre[i])\n",
    "    \n",
    "# ------ For Loop with else block\n",
    "digits = [0, 1, 5]\n",
    "\n",
    "for i in digits:\n",
    "    print(i)\n",
    "else:\n",
    "    print(\"No items left.\")\n"
   ]
  },
  {
   "cell_type": "code",
   "execution_count": null,
   "id": "e687741d",
   "metadata": {},
   "outputs": [],
   "source": [
    "#--------------------#\n",
    "#    While loop      #\n",
    "#--------------------#\n",
    "n = 10\n",
    "\n",
    "# initialize sum and counter\n",
    "sum = 0\n",
    "i = 1\n",
    "\n",
    "while i <= n:\n",
    "    sum = sum + i\n",
    "    i = i+1    # update counter\n",
    "\n",
    "# print the sum\n",
    "print(\"The sum is\", sum)\n",
    "\n",
    "#it can have else block as well"
   ]
  },
  {
   "cell_type": "code",
   "execution_count": null,
   "id": "2f9a9ca7",
   "metadata": {},
   "outputs": [],
   "source": [
    "\n",
    "#--------------------#\n",
    "#      Lists         #\n",
    "#--------------------#\n",
    "\n",
    " \n",
    "#----1. Create Python Lists----\n",
    "\n",
    "# --list of floats\n",
    "areas = [10.0, 16.0, 10.0]\n",
    "\n",
    "# --list with mixed data types\n",
    "areas = [\"hall\", 10.0, \"bath\" , 16.0 , \"bed\", 10.0]\n",
    "\n",
    "# --nested list\n",
    "# a. list as an item \n",
    "\n",
    "garage_area = [11.0,12.0]\n",
    "areas = [\"hall\", 10.0, \"bath\" , 16.0 , \"bed\", 10.0 , garage_area]\n",
    "\n",
    "# b. list of lists\n",
    "\n",
    "bedroom_area = [11.0 , 12.0]\n",
    "hallway_area = [13.0 , 15.0]\n",
    "pool_area = [16.0 , 19.0 , 12.0]\n",
    "\n",
    "areas = [bedroom_area , hallway_area , pool_area]\n"
   ]
  },
  {
   "cell_type": "code",
   "execution_count": null,
   "id": "abce0dbf",
   "metadata": {},
   "outputs": [],
   "source": [
    "#----2. Access List Elements ----\n",
    "\n",
    "# -- List index\n",
    "numbers = [0, 1, 2, 3, 4, 5, 6, 7]\n",
    "\n",
    "print(numbers[0])\n",
    "\n",
    "# -- Nested List indexing\n",
    "\n",
    "numbers2d = [[0,1],[2,3],[3,5]]\n",
    "\n",
    "print(numbers2d[0][0])\n",
    "\n",
    "# -- Negative indexing\n",
    "print(numbers[-1])"
   ]
  },
  {
   "cell_type": "code",
   "execution_count": 3,
   "id": "8a79e668",
   "metadata": {},
   "outputs": [
    {
     "name": "stdout",
     "output_type": "stream",
     "text": [
      "[3, 8, 4, 2]\n",
      "[8, 4, 2, 5, 4, 11]\n",
      "[6, 5, 3, 8, 4, 2, 5, 4, 11]\n"
     ]
    }
   ],
   "source": [
    "#----2. List Slicing Elements ----\n",
    "\n",
    "print(numbers[2:6])\n",
    "\n",
    "print(numbers[3:])\n",
    "\n",
    "print(numbers[:])\n",
    "\n"
   ]
  },
  {
   "cell_type": "code",
   "execution_count": 9,
   "id": "32c0fd81",
   "metadata": {},
   "outputs": [
    {
     "name": "stdout",
     "output_type": "stream",
     "text": [
      "[0, 2, 4]\n"
     ]
    }
   ],
   "source": [
    "#----3. Mutable Lists ----\n",
    "\n",
    "even = [3 , 5 , 7 , 11]\n",
    "\n",
    "even[0] = 0\n",
    "\n",
    "even[1:] = [2,4,8]\n",
    "\n",
    "print(even)\n",
    "\n"
   ]
  },
  {
   "cell_type": "code",
   "execution_count": 10,
   "id": "c29c83c9",
   "metadata": {},
   "outputs": [
    {
     "name": "stdout",
     "output_type": "stream",
     "text": [
      "[1, 3, 5, 9, 7, 5]\n",
      "['re', 're', 're']\n"
     ]
    }
   ],
   "source": [
    "#---- 4. Concatenating and repeating lists\n",
    "odd = [1, 3, 5]\n",
    "\n",
    "print(odd + [9, 7, 5])\n",
    "\n",
    "print([\"re\"] * 3)"
   ]
  },
  {
   "cell_type": "code",
   "execution_count": 11,
   "id": "8fa1a9a0",
   "metadata": {},
   "outputs": [
    {
     "name": "stdout",
     "output_type": "stream",
     "text": [
      "[3, 5, 7, 11, 12, [14, 16]]\n",
      "[3, 5, 7, 11, 12, [14, 16], 14, 16, 18]\n",
      "[1, 3, 9]\n"
     ]
    }
   ],
   "source": [
    "# ---- 5. List Methods \n",
    "even = [3 , 5 , 7 , 11]\n",
    "\n",
    "# append() 1 item\n",
    "even.append(12)\n",
    "even.append([14,16]) #will be added as list\n",
    "\n",
    "print(even)\n",
    "\n",
    "# extend() add more items\n",
    "even.extend([14,16,18])\n",
    "print(even)\n",
    "\n",
    "#insert() 1 or more at a position\n",
    "odd = [1, 9]\n",
    "odd.insert(1,3)\n",
    "\n",
    "print(odd)\n",
    "\n",
    "#odd[2:2] = [5, 7]\n",
    "\n"
   ]
  },
  {
   "cell_type": "code",
   "execution_count": 12,
   "id": "8abe046c",
   "metadata": {},
   "outputs": [
    {
     "name": "stdout",
     "output_type": "stream",
     "text": [
      "()\n",
      "(1, 2, 3)\n",
      "(1, 'Hello', 3.4)\n",
      "('mouse', [8, 4, 6], (1, 2, 3))\n",
      "<class 'str'>\n",
      "<class 'tuple'>\n",
      "<class 'tuple'>\n"
     ]
    }
   ],
   "source": [
    "#----------------------#\n",
    "#      Tuples          #\n",
    "#----------------------#\n",
    "\n",
    "# ----1.Creating a Tuple\n",
    "\n",
    "# Different types of tuples\n",
    "\n",
    "#  --Empty tuple\n",
    "my_tuple = ()\n",
    "print(my_tuple)\n",
    "\n",
    "# -- Tuple having integers\n",
    "my_tuple = (1, 2, 3)\n",
    "print(my_tuple)\n",
    "\n",
    "# -- tuple with mixed datatypes\n",
    "my_tuple = (1, \"Hello\", 3.4)\n",
    "print(my_tuple)\n",
    "\n",
    "# -- nested tuple\n",
    "my_tuple = (\"mouse\", [8, 4, 6], (1, 2, 3))\n",
    "print(my_tuple)\n",
    "\n",
    "# -- one element tupple ? Possible ?\n",
    "\n",
    "my_tuple = (\"hello\")\n",
    "print(type(my_tuple))  # <class 'str'>\n",
    "\n",
    "# Creating a tuple having one element\n",
    "my_tuple = (\"hello\",)\n",
    "print(type(my_tuple))  # <class 'tuple'>\n",
    "\n",
    "# Parentheses is optional\n",
    "my_tuple = \"hello\",\n",
    "print(type(my_tuple))  # <class 'tuple'>\n",
    "\n",
    "#NOPE!\n",
    "\n"
   ]
  },
  {
   "cell_type": "code",
   "execution_count": 6,
   "id": "c05b3b0d",
   "metadata": {},
   "outputs": [
    {
     "name": "stdout",
     "output_type": "stream",
     "text": [
      "(3, 4.6, 'dog')\n",
      "3\n",
      "4.6\n",
      "dog\n"
     ]
    }
   ],
   "source": [
    "# ---2. Tuple packing\n",
    "\n",
    "#A tuple can also be created without using parentheses\n",
    "my_tuple = 3, 4.6, \"dog\"\n",
    "print(my_tuple)\n",
    "\n",
    "# tuple unpacking is also possible\n",
    "a, b, c = my_tuple\n",
    "\n",
    "print(a)      # 3\n",
    "print(b)      # 4.6\n",
    "print(c)      # dog\n",
    "#print(d) "
   ]
  },
  {
   "cell_type": "code",
   "execution_count": 1,
   "id": "540c2ad7",
   "metadata": {},
   "outputs": [
    {
     "name": "stdout",
     "output_type": "stream",
     "text": [
      "p\n",
      "t\n",
      "s\n",
      "4\n",
      "t\n",
      "p\n"
     ]
    }
   ],
   "source": [
    "# ---3. Access Tuple Elements\n",
    "\n",
    "# -- Indexing\n",
    "my_tuple = ('p','e','r','m','i','t')\n",
    "print(my_tuple[0])   # 'p' \n",
    "print(my_tuple[5])   # 't'\n",
    "\n",
    "# IndexError: list index out of range\n",
    "# print(my_tuple[6])\n",
    "\n",
    "# -- Index must be an integer\n",
    "# TypeError: list indices must be integers, not float\n",
    "# my_tuple[2.0]\n",
    "\n",
    "# -- nested tuple\n",
    "n_tuple = (\"mouse\", [8, 4, 6], (1, 2, 3))\n",
    "\n",
    "print(n_tuple[0][3])       # 's'\n",
    "print(n_tuple[1][1])       # 4\n",
    "\n",
    "# -- Negative Indexing\n",
    "my_tuple = ('p', 'e', 'r', 'm', 'i', 't')\n",
    "\n",
    "\n",
    "print(my_tuple[-1])\n",
    "\n",
    "\n",
    "print(my_tuple[-6])\n"
   ]
  },
  {
   "cell_type": "code",
   "execution_count": null,
   "id": "7693bf40",
   "metadata": {},
   "outputs": [],
   "source": [
    "# --- 4. Slicing\n",
    "\n",
    "# Accessing tuple elements using slicing\n",
    "my_tuple = ('p','r','o','g','r','a','m','i','z')\n",
    "\n",
    "# elements 2nd to 4th\n",
    "# Output: ('r', 'o', 'g')\n",
    "print(my_tuple[1:4])\n",
    "\n",
    "# elements beginning to 2nd\n",
    "# Output: ('p', 'r')\n",
    "print(my_tuple[:-7])\n",
    "\n",
    "# elements 8th to end\n",
    "# Output: ('i', 'z')\n",
    "print(my_tuple[7:])\n",
    "\n",
    "# elements beginning to end\n",
    "# Output: ('p', 'r', 'o', 'g', 'r', 'a', 'm', 'i', 'z')\n",
    "print(my_tuple[:])"
   ]
  },
  {
   "cell_type": "code",
   "execution_count": 15,
   "id": "fd1257f0",
   "metadata": {},
   "outputs": [
    {
     "name": "stdout",
     "output_type": "stream",
     "text": [
      "(4, 2, 3, [9, 5])\n",
      "('p', 'r', 'o', 'g', 'r', 'a', 'm', 'i', 'z')\n"
     ]
    }
   ],
   "source": [
    "# --- 5. Mutable Tupple\n",
    "\n",
    "# Changing tuple values\n",
    "my_tuple = (4, 2, 3, [6, 5])\n",
    "\n",
    "# TypeError: 'tuple' object does not support item assignment\n",
    "#my_tuple[1] = 9\n",
    "\n",
    "# However, item of mutable element can be changed\n",
    "my_tuple[3][0] = 9    # Output: (4, 2, 3, [9, 5])\n",
    "print(my_tuple)\n",
    "\n",
    "# Tuples can be reassigned\n",
    "my_tuple = ('p', 'r', 'o', 'g', 'r', 'a', 'm', 'i', 'z')\n",
    "\n",
    "# Output: ('p', 'r', 'o', 'g', 'r', 'a', 'm', 'i', 'z')\n",
    "print(my_tuple)"
   ]
  },
  {
   "cell_type": "code",
   "execution_count": null,
   "id": "229c5140",
   "metadata": {},
   "outputs": [],
   "source": [
    "# --- 6. Operations on Tupples\n",
    "# Concatenation\n",
    "# Output: (1, 2, 3, 4, 5, 6)\n",
    "print((1, 2, 3) + (4, 5, 6))\n",
    "\n",
    "# Repeat\n",
    "# Output: ('Repeat', 'Repeat', 'Repeat')\n",
    "print((\"Repeat\",) * 3)"
   ]
  },
  {
   "cell_type": "code",
   "execution_count": 16,
   "id": "52b23496",
   "metadata": {},
   "outputs": [
    {
     "ename": "NameError",
     "evalue": "name 'my_tuple' is not defined",
     "output_type": "error",
     "traceback": [
      "\u001b[1;31m---------------------------------------------------------------------------\u001b[0m",
      "\u001b[1;31mNameError\u001b[0m                                 Traceback (most recent call last)",
      "Cell \u001b[1;32mIn[16], line 13\u001b[0m\n\u001b[0;32m     10\u001b[0m \u001b[38;5;28;01mdel\u001b[39;00m my_tuple\n\u001b[0;32m     12\u001b[0m \u001b[38;5;66;03m# NameError: name 'my_tuple' is not defined\u001b[39;00m\n\u001b[1;32m---> 13\u001b[0m \u001b[38;5;28mprint\u001b[39m(\u001b[43mmy_tuple\u001b[49m)\n",
      "\u001b[1;31mNameError\u001b[0m: name 'my_tuple' is not defined"
     ]
    }
   ],
   "source": [
    "# ---- 7 .Deleting a Tupple\n",
    "# Deleting tuples\n",
    "my_tuple = ('p', 'r', 'o', 'g', 'r', 'a', 'm', 'i', 'z')\n",
    "\n",
    "# can't delete items\n",
    "# TypeError: 'tuple' object doesn't support item deletion\n",
    "# del my_tuple[3]\n",
    "\n",
    "# Can delete an entire tuple\n",
    "del my_tuple\n",
    "\n",
    "# NameError: name 'my_tuple' is not defined\n",
    "print(my_tuple)"
   ]
  },
  {
   "cell_type": "code",
   "execution_count": null,
   "id": "6495c2a4",
   "metadata": {},
   "outputs": [],
   "source": [
    "# ---- 8. Tupple Methods\n",
    "# Work for u-- Go figure \n",
    "\n",
    "#my_tuple.count('p'))  \n",
    "#my_tuple.index('l'))\n",
    "\n",
    "#Tuple Membership Test\n",
    "# in \n"
   ]
  },
  {
   "cell_type": "code",
   "execution_count": null,
   "id": "18ea6e9f",
   "metadata": {},
   "outputs": [],
   "source": [
    "#--------------------------------#\n",
    "#        LIST VS TUPPLE          #\n",
    "#--------------------------------#\n",
    "\n",
    "# list mutable \n",
    "# tupple not \n",
    "# perf : tupple > list\n",
    "\n",
    "#Since tuples are immutable, iterating through a tuple is faster than with list. So there is a slight performance boost.\n",
    "#Tuples that contain immutable elements can be used as a key for a dictionary. With lists, this is not possible.\n",
    "\n",
    "\n",
    "#No better option..depends upin usage"
   ]
  },
  {
   "cell_type": "code",
   "execution_count": 17,
   "id": "aac0b944",
   "metadata": {},
   "outputs": [
    {
     "name": "stdout",
     "output_type": "stream",
     "text": [
      "(2, 'ball')\n"
     ]
    }
   ],
   "source": [
    "#---------------------------#\n",
    "#       Dictionary          #\n",
    "#---------------------------#\n",
    "\n",
    "# ----1 . Creating Python Dictionary\n",
    "\n",
    "# -- empty dictionary\n",
    "my_dict = {}\n",
    "\n",
    "# -- dictionary with integer keys\n",
    "my_dict = {1: 'apple', 2: 'ball'}\n",
    "# -- dictionary with mixed keys\n",
    "my_dict = {'name': 'John', 1: [2, 4, 3]}\n",
    "\n",
    "# -- using dict()\n",
    "my_dict = dict({1:'apple', 2:'ball'})\n",
    "\n",
    "# -- from sequence having each item as a pair\n",
    "my_dict = dict([(1,[(1,'apple'), (2,'ball')]), (2,'ball')])\n",
    "print(my_dict[1][1])\n",
    "\n",
    "#As you can see from above, we can also create a dictionary using the built-in dict() function."
   ]
  },
  {
   "cell_type": "code",
   "execution_count": 18,
   "id": "910ea0a8",
   "metadata": {},
   "outputs": [
    {
     "name": "stdout",
     "output_type": "stream",
     "text": [
      "Jack\n",
      "26\n",
      "None\n"
     ]
    },
    {
     "ename": "KeyError",
     "evalue": "'address'",
     "output_type": "error",
     "traceback": [
      "\u001b[1;31m---------------------------------------------------------------------------\u001b[0m",
      "\u001b[1;31mKeyError\u001b[0m                                  Traceback (most recent call last)",
      "Cell \u001b[1;32mIn[18], line 16\u001b[0m\n\u001b[0;32m     13\u001b[0m \u001b[38;5;28mprint\u001b[39m(my_dict\u001b[38;5;241m.\u001b[39mget(\u001b[38;5;124m'\u001b[39m\u001b[38;5;124maddress\u001b[39m\u001b[38;5;124m'\u001b[39m))\n\u001b[0;32m     15\u001b[0m \u001b[38;5;66;03m# KeyError\u001b[39;00m\n\u001b[1;32m---> 16\u001b[0m \u001b[38;5;28mprint\u001b[39m(\u001b[43mmy_dict\u001b[49m\u001b[43m[\u001b[49m\u001b[38;5;124;43m'\u001b[39;49m\u001b[38;5;124;43maddress\u001b[39;49m\u001b[38;5;124;43m'\u001b[39;49m\u001b[43m]\u001b[49m)\n",
      "\u001b[1;31mKeyError\u001b[0m: 'address'"
     ]
    }
   ],
   "source": [
    "# ----2 .Accessing Elements from Dictionary\n",
    "# get vs [] for retrieving elements\n",
    "my_dict = {'name': 'Jack', 'age': 26}\n",
    "\n",
    "# Output: Jack\n",
    "print(my_dict['name'])\n",
    "\n",
    "# Output: 26\n",
    "print(my_dict.get('age'))\n",
    "\n",
    "# Trying to access keys which doesn't exist throws error\n",
    "# Output None\n",
    "print(my_dict.get('address'))\n",
    "\n",
    "# KeyError\n",
    "print(my_dict['address'])"
   ]
  },
  {
   "cell_type": "code",
   "execution_count": 19,
   "id": "b293dc71",
   "metadata": {},
   "outputs": [
    {
     "name": "stdout",
     "output_type": "stream",
     "text": [
      "{'name': 'Jack', 'age': 27}\n",
      "{'name': 'Jack', 'age': 27, 'address': 'Downtown'}\n"
     ]
    }
   ],
   "source": [
    "# ---3. Changing and Adding Dictionary elements\n",
    "# Changing and adding Dictionary Elements\n",
    "my_dict = {'name': 'Jack', 'age': 26}\n",
    "\n",
    "# update value\n",
    "my_dict['age'] = 27\n",
    "\n",
    "#Output: {'age': 27, 'name': 'Jack'}\n",
    "print(my_dict)\n",
    "\n",
    "# add item\n",
    "my_dict['address'] = 'Downtown'\n",
    "\n",
    "# Output: {'address': 'Downtown', 'age': 27, 'name': 'Jack'}\n",
    "print(my_dict)"
   ]
  },
  {
   "cell_type": "code",
   "execution_count": 20,
   "id": "893a920e",
   "metadata": {},
   "outputs": [
    {
     "name": "stdout",
     "output_type": "stream",
     "text": [
      "16\n",
      "{1: 1, 2: 4, 3: 9, 5: 25}\n",
      "(5, 25)\n",
      "{1: 1, 2: 4, 3: 9}\n",
      "{}\n"
     ]
    },
    {
     "ename": "NameError",
     "evalue": "name 'squares' is not defined",
     "output_type": "error",
     "traceback": [
      "\u001b[1;31m---------------------------------------------------------------------------\u001b[0m",
      "\u001b[1;31mNameError\u001b[0m                                 Traceback (most recent call last)",
      "Cell \u001b[1;32mIn[20], line 31\u001b[0m\n\u001b[0;32m     28\u001b[0m \u001b[38;5;28;01mdel\u001b[39;00m squares\n\u001b[0;32m     30\u001b[0m \u001b[38;5;66;03m# Throws Error\u001b[39;00m\n\u001b[1;32m---> 31\u001b[0m \u001b[38;5;28mprint\u001b[39m(\u001b[43msquares\u001b[49m)\n",
      "\u001b[1;31mNameError\u001b[0m: name 'squares' is not defined"
     ]
    }
   ],
   "source": [
    "# ---4. Removing elements from Dictionary\n",
    "# Removing elements from a dictionary\n",
    "\n",
    "# create a dictionary\n",
    "squares = {1: 1, 2: 4, 3: 9, 4: 16, 5: 25}\n",
    "\n",
    "# remove a particular item, returns its value\n",
    "# Output: 16\n",
    "print(squares.pop(4))\n",
    "\n",
    "# Output: {1: 1, 2: 4, 3: 9, 5: 25}\n",
    "print(squares)\n",
    "\n",
    "# remove an arbitrary item, return (key,value)\n",
    "# Output: (5, 25)\n",
    "print(squares.popitem())\n",
    "\n",
    "# Output: {1: 1, 2: 4, 3: 9}\n",
    "print(squares)\n",
    "\n",
    "# remove all items\n",
    "squares.clear()\n",
    "\n",
    "# Output: {}\n",
    "print(squares)\n",
    "\n",
    "# delete the dictionary itself\n",
    "del squares\n",
    "\n",
    "# Throws Error\n",
    "print(squares)"
   ]
  },
  {
   "cell_type": "code",
   "execution_count": null,
   "id": "9c2ecf7d",
   "metadata": {},
   "outputs": [],
   "source": [
    "# ---5. Methods\n",
    "# Image as less time "
   ]
  },
  {
   "cell_type": "code",
   "execution_count": 21,
   "id": "d8d0987d",
   "metadata": {},
   "outputs": [
    {
     "name": "stdout",
     "output_type": "stream",
     "text": [
      "{1, 2, 3}\n",
      "{'Hello', 1.0, (1, 2, 3)}\n",
      "{1, 2, 3, 4}\n",
      "{1, 2, 3}\n"
     ]
    },
    {
     "ename": "TypeError",
     "evalue": "unhashable type: 'list'",
     "output_type": "error",
     "traceback": [
      "\u001b[1;31m---------------------------------------------------------------------------\u001b[0m",
      "\u001b[1;31mTypeError\u001b[0m                                 Traceback (most recent call last)",
      "Cell \u001b[1;32mIn[21], line 29\u001b[0m\n\u001b[0;32m     23\u001b[0m \u001b[38;5;28mprint\u001b[39m(my_set)\n\u001b[0;32m     25\u001b[0m \u001b[38;5;66;03m# set cannot have mutable items\u001b[39;00m\n\u001b[0;32m     26\u001b[0m \u001b[38;5;66;03m# here [3, 4] is a mutable list\u001b[39;00m\n\u001b[0;32m     27\u001b[0m \u001b[38;5;66;03m# this will cause an error.\u001b[39;00m\n\u001b[1;32m---> 29\u001b[0m my_set \u001b[38;5;241m=\u001b[39m {\u001b[38;5;241m1\u001b[39m, \u001b[38;5;241m2\u001b[39m, [\u001b[38;5;241m3\u001b[39m, \u001b[38;5;241m4\u001b[39m]}\n\u001b[0;32m     31\u001b[0m \u001b[38;5;66;03m#-- Empty Set\u001b[39;00m\n\u001b[0;32m     32\u001b[0m \u001b[38;5;66;03m#Empty curly braces {} will make an empty dictionary in Python. \u001b[39;00m\n\u001b[0;32m     33\u001b[0m \u001b[38;5;66;03m# Distinguish set and dictionary while creating empty set\u001b[39;00m\n\u001b[0;32m     34\u001b[0m \n\u001b[0;32m     35\u001b[0m \u001b[38;5;66;03m# initialize a with {}\u001b[39;00m\n\u001b[0;32m     36\u001b[0m a \u001b[38;5;241m=\u001b[39m {}\n",
      "\u001b[1;31mTypeError\u001b[0m: unhashable type: 'list'"
     ]
    }
   ],
   "source": [
    "#--------------------------#\n",
    "#       Sets               #\n",
    "#--------------------------#\n",
    "\n",
    "# ---1. Creating Python Sets\n",
    "# Different types of sets in Python\n",
    "# set of integers\n",
    "my_set = {1, 2, 3}\n",
    "print(my_set)\n",
    "\n",
    "# set of mixed datatypes\n",
    "my_set = {1.0, \"Hello\", (1, 2, 3)}\n",
    "print(my_set)\n",
    "\n",
    "# set cannot have duplicates\n",
    "# Output: {1, 2, 3, 4}\n",
    "my_set = {1, 2, 3, 4, 3, 2}\n",
    "print(my_set)\n",
    "\n",
    "# we can make set from a list\n",
    "# Output: {1, 2, 3}\n",
    "my_set = set([1, 2, 3, 2])\n",
    "print(my_set)\n",
    "\n",
    "# set cannot have mutable items\n",
    "# here [3, 4] is a mutable list\n",
    "# this will cause an error.\n",
    "\n",
    "my_set = {1, 2, [3, 4]}\n",
    "          \n",
    "#-- Empty Set\n",
    "#Empty curly braces {} will make an empty dictionary in Python. \n",
    "# Distinguish set and dictionary while creating empty set\n",
    "\n",
    "# initialize a with {}\n",
    "a = {}\n",
    "\n",
    "# check data type of a\n",
    "print(type(a))\n",
    "\n",
    "# initialize a with set()\n",
    "a = set()\n",
    "\n",
    "# check data type of a\n",
    "print(type(a))        "
   ]
  },
  {
   "cell_type": "code",
   "execution_count": 22,
   "id": "1ba669ef",
   "metadata": {},
   "outputs": [
    {
     "name": "stdout",
     "output_type": "stream",
     "text": [
      "{1, 3}\n",
      "{1, 2, 3}\n",
      "{1, 2, 3, 4}\n",
      "{1, 2, 3, 4, 5, 6, 8}\n"
     ]
    }
   ],
   "source": [
    "#-- Mutable Sets\n",
    "# initialize my_set\n",
    "my_set = {1, 3}\n",
    "print(my_set)\n",
    "\n",
    "# my_set[0]\n",
    "# if you uncomment the above line\n",
    "# you will get an error\n",
    "# TypeError: 'set' object does not support indexing\n",
    "\n",
    "# add an element\n",
    "# Output: {1, 2, 3}\n",
    "my_set.add(2)\n",
    "print(my_set)\n",
    "\n",
    "# add multiple elements\n",
    "# Output: {1, 2, 3}\n",
    "my_set.update([2, 3, 4])\n",
    "print(my_set)\n",
    "\n",
    "# add list and set\n",
    "# Output: {1, 2, 3, 4, 5, 6, 8}\n",
    "my_set.update([4, 5], {1, 6, 8})\n",
    "print(my_set)"
   ]
  },
  {
   "cell_type": "code",
   "execution_count": 24,
   "id": "e205b3ab",
   "metadata": {},
   "outputs": [
    {
     "name": "stdout",
     "output_type": "stream",
     "text": [
      "{1, 3, 4, 5, 6}\n",
      "{1, 3, 5, 6}\n",
      "{1, 3, 5}\n",
      "{1, 3, 5}\n"
     ]
    }
   ],
   "source": [
    "#-- Removing elements from a set\n",
    "\n",
    "# Difference between discard() and remove()\n",
    "\n",
    "# initialize my_set\n",
    "my_set = {1, 3, 4, 5, 6}\n",
    "print(my_set)\n",
    "\n",
    "# discard an element\n",
    "# Output: {1, 3, 5, 6}\n",
    "my_set.discard(4)\n",
    "print(my_set)\n",
    "\n",
    "# remove an element\n",
    "# Output: {1, 3, 5}\n",
    "my_set.remove(6)\n",
    "print(my_set)\n",
    "\n",
    "# discard an element\n",
    "# not present in my_set\n",
    "# Output: {1, 3, 5}\n",
    "my_set.discard(2)\n",
    "print(my_set)\n",
    "\n",
    "# remove an element\n",
    "# not present in my_set\n",
    "# you will get an error.\n",
    "# Output: KeyError\n",
    "\n",
    "my_set.remove(2)\n",
    "print(my_set)\n",
    "\n",
    "\n",
    "# initialize my_set\n",
    "# Output: set of unique elements\n",
    "my_set = set(\"HelloWorld\")\n",
    "print(my_set)\n",
    "\n",
    "# pop an element\n",
    "# Output: random element\n",
    "print(my_set.pop())\n",
    "\n",
    "# pop another element\n",
    "my_set.pop()\n",
    "print(my_set)\n",
    "\n",
    "# clear my_set\n",
    "# Output: set()\n",
    "my_set.clear()\n",
    "print(my_set)\n",
    "\n",
    "print(my_set)"
   ]
  },
  {
   "cell_type": "code",
   "execution_count": null,
   "id": "decfc6f4",
   "metadata": {},
   "outputs": [],
   "source": []
  }
 ],
 "metadata": {
  "kernelspec": {
   "display_name": "Python 3",
   "language": "python",
   "name": "python3"
  },
  "language_info": {
   "codemirror_mode": {
    "name": "ipython",
    "version": 3
   },
   "file_extension": ".py",
   "mimetype": "text/x-python",
   "name": "python",
   "nbconvert_exporter": "python",
   "pygments_lexer": "ipython3",
   "version": "3.12.5"
  }
 },
 "nbformat": 4,
 "nbformat_minor": 5
}
