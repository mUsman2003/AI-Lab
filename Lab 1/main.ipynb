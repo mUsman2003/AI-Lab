{
 "cells": [
  {
   "cell_type": "code",
   "execution_count": 1,
   "metadata": {},
   "outputs": [
    {
     "name": "stdout",
     "output_type": "stream",
     "text": [
      "Usman\n",
      "['Ai', 'DevOps']\n"
     ]
    }
   ],
   "source": [
    "detail=[\"Usman\",\"220900\",2.77,[\"Ai\",\"DevOps\",\"Ai Lab\",\"Compiler Constructor\",\"SE\",\"PDC\"]]\n",
    "print(detail[0])\n",
    "print(detail[3][0:2])"
   ]
  },
  {
   "cell_type": "code",
   "execution_count": 15,
   "metadata": {},
   "outputs": [],
   "source": [
    "def Avg(Arr):\n",
    "    \n",
    "    if sum(Arr)/len(Arr)>50:\n",
    "        print(\"Avg is Greater\")\n",
    "        return sum(Arr)\n",
    "    else:\n",
    "        prod=1\n",
    "        for n in range(len(Arr)):\n",
    "            prod*=Arr[n]\n",
    "        print(\"Avg is less\")\n",
    "        return prod\n"
   ]
  },
  {
   "cell_type": "code",
   "execution_count": 16,
   "metadata": {},
   "outputs": [
    {
     "name": "stdout",
     "output_type": "stream",
     "text": [
      "Avg is less\n",
      "6000\n",
      "Avg is Greater\n",
      "180\n"
     ]
    }
   ],
   "source": [
    "A1=[10,20,30]\n",
    "print(Avg(A1))\n",
    "A2=[50,60,70]\n",
    "print(Avg(A2))"
   ]
  },
  {
   "cell_type": "code",
   "execution_count": 18,
   "metadata": {},
   "outputs": [
    {
     "name": "stdout",
     "output_type": "stream",
     "text": [
      "{'a': 1, 'b': 2, 'c': 3, 'd': 4}\n"
     ]
    }
   ],
   "source": [
    "list1=['a','b','c','d']\n",
    "list2=[1,2,3,4]\n",
    "mydict1={}\n",
    "for n in range(len(list1)):\n",
    "    mydict1[list1[n]]=list2[n]\n",
    "print(mydict1)\n"
   ]
  },
  {
   "cell_type": "code",
   "execution_count": 35,
   "metadata": {},
   "outputs": [
    {
     "name": "stdout",
     "output_type": "stream",
     "text": [
      "Deposited Money  100\n",
      "Withdrew Money  30\n",
      "Balance  70\n"
     ]
    }
   ],
   "source": [
    "class BackAccount():\n",
    "    def __init__(self):\n",
    "        self.balance=0\n",
    "        \n",
    "    def Deposite(self,a=0):\n",
    "        self.balance=a\n",
    "        print(\"Deposited Money \",self.balance)\n",
    "        \n",
    "    def Withdraw(self,b=0):\n",
    "        self.balance-=b\n",
    "        print(\"Withdrew Money \",b)\n",
    "        \n",
    "    def Balance(self):\n",
    "        print(\"Balance \",self.balance)\n",
    "        \n",
    "B1=BackAccount()\n",
    "B1.Deposite(100)\n",
    "B1.Withdraw(30)\n",
    "B1.Balance()\n",
    "        \n"
   ]
  },
  {
   "cell_type": "code",
   "execution_count": 45,
   "metadata": {},
   "outputs": [
    {
     "name": "stdout",
     "output_type": "stream",
     "text": [
      "[(4, 1), (1, 3), (2, 5)]\n"
     ]
    }
   ],
   "source": [
    "def bubble_sort(arr):\n",
    "    for n in range(len(arr)):\n",
    "        for j in range(len(arr)-1):\n",
    "            if arr[j][1]>arr[j+1][1]:\n",
    "                temp=arr[n]\n",
    "                arr[n]=arr[j]\n",
    "                arr[j]=temp\n",
    "                \n",
    "    return arr\n",
    "\n",
    "list3=[(1,3),(4,1),(2,5)]\n",
    "bubble_sort(list3)\n",
    "print(list3[:])\n",
    "    "
   ]
  },
  {
   "cell_type": "code",
   "execution_count": 58,
   "metadata": {},
   "outputs": [
    {
     "name": "stdout",
     "output_type": "stream",
     "text": [
      "[1, 2, 3, 4, 5, 2, 3, 5, 7, 3, 5, 8, 9]\n",
      "{1, 2, 3, 4, 5, 7, 8, 9}\n"
     ]
    },
    {
     "ename": "TypeError",
     "evalue": "'set' object is not subscriptable",
     "output_type": "error",
     "traceback": [
      "\u001b[1;31m---------------------------------------------------------------------------\u001b[0m",
      "\u001b[1;31mTypeError\u001b[0m                                 Traceback (most recent call last)",
      "Cell \u001b[1;32mIn[58], line 13\u001b[0m\n\u001b[0;32m     11\u001b[0m \u001b[38;5;28;01mfor\u001b[39;00m n \u001b[38;5;129;01min\u001b[39;00m \u001b[38;5;28mrange\u001b[39m(\u001b[38;5;241m2\u001b[39m):\n\u001b[0;32m     12\u001b[0m     \u001b[38;5;28;01mfor\u001b[39;00m j \u001b[38;5;129;01min\u001b[39;00m \u001b[38;5;28mrange\u001b[39m(\u001b[38;5;241m8\u001b[39m):\n\u001b[1;32m---> 13\u001b[0m         list4\u001b[38;5;241m.\u001b[39mremove(\u001b[43mset1\u001b[49m\u001b[43m[\u001b[49m\u001b[43mj\u001b[49m\u001b[43m]\u001b[49m)\n\u001b[0;32m     14\u001b[0m \u001b[38;5;28mprint\u001b[39m(list4)\n",
      "\u001b[1;31mTypeError\u001b[0m: 'set' object is not subscriptable"
     ]
    }
   ],
   "source": [
    "arr1=[1,2,3,4,5]\n",
    "arr2=[2,3,5,7]\n",
    "arr3=[3,5,8,9]\n",
    "\n",
    "list4=arr1+arr2+arr3\n",
    "set1=set(list4)\n",
    "\n",
    "\n",
    "print(list4[:])\n",
    "print(set1)\n",
    "for n in range(2):\n",
    "    for j in range(8):\n",
    "        list4.remove(set1[j])\n",
    "print(list4)\n"
   ]
  },
  {
   "cell_type": "code",
   "execution_count": 62,
   "metadata": {},
   "outputs": [
    {
     "ename": "TypeError",
     "evalue": "Rizz.__init__() takes 1 positional argument but 2 were given",
     "output_type": "error",
     "traceback": [
      "\u001b[1;31m---------------------------------------------------------------------------\u001b[0m",
      "\u001b[1;31mTypeError\u001b[0m                                 Traceback (most recent call last)",
      "Cell \u001b[1;32mIn[62], line 22\u001b[0m\n\u001b[0;32m     19\u001b[0m         \u001b[38;5;28mself\u001b[39m\u001b[38;5;241m.\u001b[39mrizzlevel\u001b[38;5;241m-\u001b[39m\u001b[38;5;241m=\u001b[39mnum         \n\u001b[0;32m     20\u001b[0m         \u001b[38;5;28;01mreturn\u001b[39;00m \u001b[38;5;28mself\u001b[39m\u001b[38;5;241m.\u001b[39mrizzlevel\n\u001b[1;32m---> 22\u001b[0m W\u001b[38;5;241m=\u001b[39m\u001b[43mW_Rizz\u001b[49m\u001b[43m(\u001b[49m\u001b[43mRizz\u001b[49m\u001b[43m)\u001b[49m\n\u001b[0;32m     23\u001b[0m W\u001b[38;5;241m.\u001b[39mw_Calculator()\n",
      "\u001b[1;31mTypeError\u001b[0m: Rizz.__init__() takes 1 positional argument but 2 were given"
     ]
    }
   ],
   "source": [
    "import random\n",
    "\n",
    "class Rizz():\n",
    "    def __init__(self):\n",
    "        self.rizzlevel=0\n",
    "        \n",
    "class W_Rizz(Rizz):\n",
    "    \n",
    "    def __init__(self):\n",
    "        super().__init__()\n",
    "        \n",
    "    def w_Calculator(self):\n",
    "        \n",
    "        num=random()  \n",
    "        self.rizzlevel+=num         \n",
    "        return self.rizzlevel\n",
    "            \n",
    "    \n",
    "    \n",
    "class L_Rozz(Rizz):\n",
    "    \n",
    "    def __init__(self):\n",
    "        super().__init__()\n",
    "        \n",
    "    def l_Calculator(self):\n",
    "        num=random()\n",
    "        self.rizzlevel-=num         \n",
    "        return self.rizzlevel\n",
    "    \n",
    "W=W_Rizz(Rizz)\n",
    "W.w_Calculator()\n",
    "        "
   ]
  },
  {
   "cell_type": "code",
   "execution_count": null,
   "metadata": {},
   "outputs": [],
   "source": []
  }
 ],
 "metadata": {
  "kernelspec": {
   "display_name": "Python 3 (ipykernel)",
   "language": "python",
   "name": "python3"
  },
  "language_info": {
   "codemirror_mode": {
    "name": "ipython",
    "version": 3
   },
   "file_extension": ".py",
   "mimetype": "text/x-python",
   "name": "python",
   "nbconvert_exporter": "python",
   "pygments_lexer": "ipython3",
   "version": "3.12.6"
  }
 },
 "nbformat": 4,
 "nbformat_minor": 2
}
