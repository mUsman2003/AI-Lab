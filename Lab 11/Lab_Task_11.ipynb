{
  "cells": [
    {
      "cell_type": "markdown",
      "metadata": {
        "id": "h8bf5rpCNw8J"
      },
      "source": [
        "# **Importing Required Libraries**"
      ]
    },
    {
      "cell_type": "code",
      "execution_count": 1,
      "metadata": {
        "id": "YB3-7g7QNwHI"
      },
      "outputs": [],
      "source": [
        "import pandas as pd\n",
        "import seaborn as sns\n",
        "import matplotlib.pyplot as plt\n",
        "import numpy as np\n",
        "from sklearn.preprocessing import LabelEncoder,OneHotEncoder\n",
        "from sklearn.impute import SimpleImputer"
      ]
    },
    {
      "cell_type": "markdown",
      "metadata": {
        "id": "IgnUOrf7N-T7"
      },
      "source": [
        "# **Step 1 : Data Loading**"
      ]
    },
    {
      "cell_type": "code",
      "execution_count": 2,
      "metadata": {
        "id": "B4i7sH8kN1WN"
      },
      "outputs": [],
      "source": [
        "url = \"https://archive.ics.uci.edu/ml/machine-learning-databases/adult/adult.data\"\n",
        "df = pd.read_csv(url, header=None, names=['age', 'workclass', 'fnlwgt', 'education', 'education-num', 'marital-status',\n",
        "           'occupation', 'relationship', 'race', 'sex', 'capital-gain',\n",
        "           'capital-loss', 'hours-per-week', 'native-country', 'income']\n",
        ", na_values=' ?', skipinitialspace=True, delimiter=',')"
      ]
    },
    {
      "cell_type": "code",
      "execution_count": 3,
      "metadata": {
        "colab": {
          "base_uri": "https://localhost:8080/",
          "height": 293
        },
        "id": "iBm47arNOHK8",
        "outputId": "12bd5b85-f0cf-4964-96ee-832e0b2622c5"
      },
      "outputs": [
        {
          "data": {
            "text/html": [
              "<div>\n",
              "<style scoped>\n",
              "    .dataframe tbody tr th:only-of-type {\n",
              "        vertical-align: middle;\n",
              "    }\n",
              "\n",
              "    .dataframe tbody tr th {\n",
              "        vertical-align: top;\n",
              "    }\n",
              "\n",
              "    .dataframe thead th {\n",
              "        text-align: right;\n",
              "    }\n",
              "</style>\n",
              "<table border=\"1\" class=\"dataframe\">\n",
              "  <thead>\n",
              "    <tr style=\"text-align: right;\">\n",
              "      <th></th>\n",
              "      <th>age</th>\n",
              "      <th>workclass</th>\n",
              "      <th>fnlwgt</th>\n",
              "      <th>education</th>\n",
              "      <th>education-num</th>\n",
              "      <th>marital-status</th>\n",
              "      <th>occupation</th>\n",
              "      <th>relationship</th>\n",
              "      <th>race</th>\n",
              "      <th>sex</th>\n",
              "      <th>capital-gain</th>\n",
              "      <th>capital-loss</th>\n",
              "      <th>hours-per-week</th>\n",
              "      <th>native-country</th>\n",
              "      <th>income</th>\n",
              "    </tr>\n",
              "  </thead>\n",
              "  <tbody>\n",
              "    <tr>\n",
              "      <th>0</th>\n",
              "      <td>39</td>\n",
              "      <td>State-gov</td>\n",
              "      <td>77516</td>\n",
              "      <td>Bachelors</td>\n",
              "      <td>13</td>\n",
              "      <td>Never-married</td>\n",
              "      <td>Adm-clerical</td>\n",
              "      <td>Not-in-family</td>\n",
              "      <td>White</td>\n",
              "      <td>Male</td>\n",
              "      <td>2174</td>\n",
              "      <td>0</td>\n",
              "      <td>40</td>\n",
              "      <td>United-States</td>\n",
              "      <td>&lt;=50K</td>\n",
              "    </tr>\n",
              "    <tr>\n",
              "      <th>1</th>\n",
              "      <td>50</td>\n",
              "      <td>Self-emp-not-inc</td>\n",
              "      <td>83311</td>\n",
              "      <td>Bachelors</td>\n",
              "      <td>13</td>\n",
              "      <td>Married-civ-spouse</td>\n",
              "      <td>Exec-managerial</td>\n",
              "      <td>Husband</td>\n",
              "      <td>White</td>\n",
              "      <td>Male</td>\n",
              "      <td>0</td>\n",
              "      <td>0</td>\n",
              "      <td>13</td>\n",
              "      <td>United-States</td>\n",
              "      <td>&lt;=50K</td>\n",
              "    </tr>\n",
              "    <tr>\n",
              "      <th>2</th>\n",
              "      <td>38</td>\n",
              "      <td>Private</td>\n",
              "      <td>215646</td>\n",
              "      <td>HS-grad</td>\n",
              "      <td>9</td>\n",
              "      <td>Divorced</td>\n",
              "      <td>Handlers-cleaners</td>\n",
              "      <td>Not-in-family</td>\n",
              "      <td>White</td>\n",
              "      <td>Male</td>\n",
              "      <td>0</td>\n",
              "      <td>0</td>\n",
              "      <td>40</td>\n",
              "      <td>United-States</td>\n",
              "      <td>&lt;=50K</td>\n",
              "    </tr>\n",
              "    <tr>\n",
              "      <th>3</th>\n",
              "      <td>53</td>\n",
              "      <td>Private</td>\n",
              "      <td>234721</td>\n",
              "      <td>11th</td>\n",
              "      <td>7</td>\n",
              "      <td>Married-civ-spouse</td>\n",
              "      <td>Handlers-cleaners</td>\n",
              "      <td>Husband</td>\n",
              "      <td>Black</td>\n",
              "      <td>Male</td>\n",
              "      <td>0</td>\n",
              "      <td>0</td>\n",
              "      <td>40</td>\n",
              "      <td>United-States</td>\n",
              "      <td>&lt;=50K</td>\n",
              "    </tr>\n",
              "    <tr>\n",
              "      <th>4</th>\n",
              "      <td>28</td>\n",
              "      <td>Private</td>\n",
              "      <td>338409</td>\n",
              "      <td>Bachelors</td>\n",
              "      <td>13</td>\n",
              "      <td>Married-civ-spouse</td>\n",
              "      <td>Prof-specialty</td>\n",
              "      <td>Wife</td>\n",
              "      <td>Black</td>\n",
              "      <td>Female</td>\n",
              "      <td>0</td>\n",
              "      <td>0</td>\n",
              "      <td>40</td>\n",
              "      <td>Cuba</td>\n",
              "      <td>&lt;=50K</td>\n",
              "    </tr>\n",
              "  </tbody>\n",
              "</table>\n",
              "</div>"
            ],
            "text/plain": [
              "   age         workclass  fnlwgt  education  education-num  \\\n",
              "0   39         State-gov   77516  Bachelors             13   \n",
              "1   50  Self-emp-not-inc   83311  Bachelors             13   \n",
              "2   38           Private  215646    HS-grad              9   \n",
              "3   53           Private  234721       11th              7   \n",
              "4   28           Private  338409  Bachelors             13   \n",
              "\n",
              "       marital-status         occupation   relationship   race     sex  \\\n",
              "0       Never-married       Adm-clerical  Not-in-family  White    Male   \n",
              "1  Married-civ-spouse    Exec-managerial        Husband  White    Male   \n",
              "2            Divorced  Handlers-cleaners  Not-in-family  White    Male   \n",
              "3  Married-civ-spouse  Handlers-cleaners        Husband  Black    Male   \n",
              "4  Married-civ-spouse     Prof-specialty           Wife  Black  Female   \n",
              "\n",
              "   capital-gain  capital-loss  hours-per-week native-country income  \n",
              "0          2174             0              40  United-States  <=50K  \n",
              "1             0             0              13  United-States  <=50K  \n",
              "2             0             0              40  United-States  <=50K  \n",
              "3             0             0              40  United-States  <=50K  \n",
              "4             0             0              40           Cuba  <=50K  "
            ]
          },
          "execution_count": 3,
          "metadata": {},
          "output_type": "execute_result"
        }
      ],
      "source": [
        "df.head()"
      ]
    },
    {
      "cell_type": "markdown",
      "metadata": {
        "id": "zrTpgE7OVHUr"
      },
      "source": [
        "# **Step 2 : Initial Data Inspection and Cleaning**"
      ]
    },
    {
      "cell_type": "markdown",
      "metadata": {
        "id": "b5EQb648GwH_"
      },
      "source": [
        "### Step 2.1 : Display dataset information and preview data\n",
        "\n",
        "**Preview Data:** Using head() lets students see the actual records, which is critical for understanding the context of the data.\n",
        "\n",
        "**Dataset Info:** The info() function shows non-null counts and datatypes, which helps in quickly spotting missing values or incorrect data formats.\n",
        "\n"
      ]
    },
    {
      "cell_type": "code",
      "execution_count": 4,
      "metadata": {
        "id": "iWouYpAbOwem"
      },
      "outputs": [
        {
          "name": "stdout",
          "output_type": "stream",
          "text": [
            "INFO \n",
            "<class 'pandas.core.frame.DataFrame'>\n",
            "RangeIndex: 32561 entries, 0 to 32560\n",
            "Data columns (total 15 columns):\n",
            " #   Column          Non-Null Count  Dtype \n",
            "---  ------          --------------  ----- \n",
            " 0   age             32561 non-null  int64 \n",
            " 1   workclass       32561 non-null  object\n",
            " 2   fnlwgt          32561 non-null  int64 \n",
            " 3   education       32561 non-null  object\n",
            " 4   education-num   32561 non-null  int64 \n",
            " 5   marital-status  32561 non-null  object\n",
            " 6   occupation      32561 non-null  object\n",
            " 7   relationship    32561 non-null  object\n",
            " 8   race            32561 non-null  object\n",
            " 9   sex             32561 non-null  object\n",
            " 10  capital-gain    32561 non-null  int64 \n",
            " 11  capital-loss    32561 non-null  int64 \n",
            " 12  hours-per-week  32561 non-null  int64 \n",
            " 13  native-country  32561 non-null  object\n",
            " 14  income          32561 non-null  object\n",
            "dtypes: int64(6), object(9)\n",
            "memory usage: 3.7+ MB\n"
          ]
        }
      ],
      "source": [
        "# Display dataset information and preview data\n",
        "# -> Display the first 5 rows and print the basic states for data\n",
        "# -> Hint: head and info\n",
        "\n",
        "df.head(5)\n",
        "print(\"INFO \")\n",
        "df.info()"
      ]
    },
    {
      "cell_type": "markdown",
      "metadata": {
        "id": "xjsOPQ2Bn6T1"
      },
      "source": [
        "**Dataset Dimensions:** Knowing the shape of the data informs students about its scale, which can affect computation time and choice of algorithms."
      ]
    },
    {
      "cell_type": "code",
      "execution_count": 5,
      "metadata": {
        "id": "XKja8Ls0UU9S"
      },
      "outputs": [
        {
          "name": "stdout",
          "output_type": "stream",
          "text": [
            "Rows: 32561\n",
            "Columns: 15\n"
          ]
        }
      ],
      "source": [
        "# Display the dimension of the data\n",
        "# -> Hint : shape\n",
        "\n",
        "print(\"Rows:\", df.shape[0])\n",
        "print(\"Columns:\", df.shape[1])"
      ]
    },
    {
      "cell_type": "markdown",
      "metadata": {
        "id": "vpDOCBUhoBEa"
      },
      "source": [
        "### **Step 2.2 : Basic Statistical Summary:**\n",
        "\n",
        "The describe() function provides vital statistics (min, max, mean, standard deviation) that help identify any outliers or anomalies in numerical columns."
      ]
    },
    {
      "cell_type": "code",
      "execution_count": 6,
      "metadata": {
        "id": "2NnzpfSUUhdi"
      },
      "outputs": [
        {
          "name": "stdout",
          "output_type": "stream",
          "text": [
            "                age        fnlwgt  education-num  capital-gain  capital-loss  \\\n",
            "count  32561.000000  3.256100e+04   32561.000000  32561.000000  32561.000000   \n",
            "mean      38.581647  1.897784e+05      10.080679   1077.648844     87.303830   \n",
            "std       13.640433  1.055500e+05       2.572720   7385.292085    402.960219   \n",
            "min       17.000000  1.228500e+04       1.000000      0.000000      0.000000   \n",
            "25%       28.000000  1.178270e+05       9.000000      0.000000      0.000000   \n",
            "50%       37.000000  1.783560e+05      10.000000      0.000000      0.000000   \n",
            "75%       48.000000  2.370510e+05      12.000000      0.000000      0.000000   \n",
            "max       90.000000  1.484705e+06      16.000000  99999.000000   4356.000000   \n",
            "\n",
            "       hours-per-week  \n",
            "count    32561.000000  \n",
            "mean        40.437456  \n",
            "std         12.347429  \n",
            "min          1.000000  \n",
            "25%         40.000000  \n",
            "50%         40.000000  \n",
            "75%         45.000000  \n",
            "max         99.000000  \n"
          ]
        }
      ],
      "source": [
        "# Check the min , max , count , means , standard diviation etc\n",
        "# Hint -> describe\n",
        "print(df.describe())"
      ]
    },
    {
      "cell_type": "markdown",
      "metadata": {
        "id": "Dy6MvsJGoLLC"
      },
      "source": [
        "# **Step 2.3 : Counting Missing Values:**\n",
        "\n",
        "This step is essential for diagnosing data quality. Missing values can lead to biased or inaccurate models if not handled properly."
      ]
    },
    {
      "cell_type": "code",
      "execution_count": 7,
      "metadata": {
        "id": "jy6idUTvVTPc"
      },
      "outputs": [
        {
          "name": "stdout",
          "output_type": "stream",
          "text": [
            "age               0\n",
            "workclass         0\n",
            "fnlwgt            0\n",
            "education         0\n",
            "education-num     0\n",
            "marital-status    0\n",
            "occupation        0\n",
            "relationship      0\n",
            "race              0\n",
            "sex               0\n",
            "capital-gain      0\n",
            "capital-loss      0\n",
            "hours-per-week    0\n",
            "native-country    0\n",
            "income            0\n",
            "dtype: int64\n"
          ]
        }
      ],
      "source": [
        "# Count missing values in each column\n",
        "print(df.isnull().sum())"
      ]
    },
    {
      "cell_type": "markdown",
      "metadata": {
        "id": "Zx768vdZoTKm"
      },
      "source": [
        "### **Step 2.4 : Checking for Duplicate Records:**\n",
        "\n",
        "Duplicates can skew the analysis by over-representing some data, so it's important to remove them."
      ]
    },
    {
      "cell_type": "code",
      "execution_count": 8,
      "metadata": {
        "id": "gf-P4Q1iVW_a"
      },
      "outputs": [
        {
          "data": {
            "text/plain": [
              "np.int64(24)"
            ]
          },
          "execution_count": 8,
          "metadata": {},
          "output_type": "execute_result"
        }
      ],
      "source": [
        "# Check for duplicate records\n",
        "df.duplicated().sum()"
      ]
    },
    {
      "cell_type": "markdown",
      "metadata": {
        "id": "_BQfjyVHoc4h"
      },
      "source": [
        "### **Step 2.5 : Inspecting Unique Values in Categorical Columns:**\n",
        "\n",
        "Unique value inspection reveals if there are any unexpected values (e.g., a '?' or extra spaces) that need cleaning. This is important for ensuring reliable encoding later."
      ]
    },
    {
      "cell_type": "code",
      "execution_count": 9,
      "metadata": {
        "id": "LZzyOkp8Vjfe"
      },
      "outputs": [
        {
          "name": "stdout",
          "output_type": "stream",
          "text": [
            "\n",
            " Unique Values in Categorical Columns:\n",
            "workclass --> ['State-gov' 'Self-emp-not-inc' 'Private' 'Federal-gov' 'Local-gov' '?'\n",
            " 'Self-emp-inc' 'Without-pay' 'Never-worked']... (Total: 9)\n",
            "education --> ['Bachelors' 'HS-grad' '11th' 'Masters' '9th' 'Some-college' 'Assoc-acdm'\n",
            " 'Assoc-voc' '7th-8th' 'Doctorate']... (Total: 16)\n",
            "marital-status --> ['Never-married' 'Married-civ-spouse' 'Divorced' 'Married-spouse-absent'\n",
            " 'Separated' 'Married-AF-spouse' 'Widowed']... (Total: 7)\n",
            "occupation --> ['Adm-clerical' 'Exec-managerial' 'Handlers-cleaners' 'Prof-specialty'\n",
            " 'Other-service' 'Sales' 'Craft-repair' 'Transport-moving'\n",
            " 'Farming-fishing' 'Machine-op-inspct']... (Total: 15)\n",
            "relationship --> ['Not-in-family' 'Husband' 'Wife' 'Own-child' 'Unmarried' 'Other-relative']... (Total: 6)\n",
            "race --> ['White' 'Black' 'Asian-Pac-Islander' 'Amer-Indian-Eskimo' 'Other']... (Total: 5)\n",
            "sex --> ['Male' 'Female']... (Total: 2)\n",
            "native-country --> ['United-States' 'Cuba' 'Jamaica' 'India' '?' 'Mexico' 'South'\n",
            " 'Puerto-Rico' 'Honduras' 'England']... (Total: 42)\n",
            "income --> ['<=50K' '>50K']... (Total: 2)\n"
          ]
        }
      ],
      "source": [
        "# Check the unique data of each Categorical column to find if there is any irrelevant record or data e.g one record contains ? mark\n",
        "categorical_cols = df.select_dtypes(include='object').columns\n",
        "print(\"\\n Unique Values in Categorical Columns:\")\n",
        "for col in categorical_cols:\n",
        "    print(f\"{col} --> {df[col].unique()[:10]}... (Total: {df[col].nunique()})\")"
      ]
    },
    {
      "cell_type": "markdown",
      "metadata": {
        "id": "51UFtEbPolG7"
      },
      "source": [
        "### **Step 2.6 : Validating and Converting Data Types:**\n",
        "\n",
        "Converting columns to the correct datatype (like converting an ID column to a string) prevents errors in operations such as merging, filtering, or encoding."
      ]
    },
    {
      "cell_type": "markdown",
      "metadata": {
        "id": "fNmeH7rXoq-B"
      },
      "source": []
    },
    {
      "cell_type": "code",
      "execution_count": 10,
      "metadata": {
        "id": "FpkcYaJWWWnB"
      },
      "outputs": [
        {
          "name": "stdout",
          "output_type": "stream",
          "text": [
            "age                int64\n",
            "workclass         object\n",
            "fnlwgt             int64\n",
            "education         object\n",
            "education-num      int64\n",
            "marital-status    object\n",
            "occupation        object\n",
            "relationship      object\n",
            "race              object\n",
            "sex               object\n",
            "capital-gain       int64\n",
            "capital-loss       int64\n",
            "hours-per-week     int64\n",
            "native-country    object\n",
            "income            object\n",
            "dtype: object\n"
          ]
        }
      ],
      "source": [
        "# Check the data type of each column and if wrong datatype convert it to the suitable datatype\n",
        "print(df.dtypes)\n",
        "numeric_cols = ['age', 'fnlwgt', 'education-num', 'capital-gain', 'capital-loss', 'hours-per-week']\n",
        "df[numeric_cols] = df[numeric_cols].apply(pd.to_numeric)\n",
        "#print(df.dtypes)"
      ]
    },
    {
      "cell_type": "markdown",
      "metadata": {
        "id": "Qo91Tudgotxt"
      },
      "source": [
        "### **Step 2.7 : Checking Value Counts for Categorical Columns:**\n",
        "\n",
        "Value counts help in understanding the distribution within each category. They are useful for detecting class imbalances and anomalies."
      ]
    },
    {
      "cell_type": "code",
      "execution_count": 12,
      "metadata": {
        "id": "OvH-IVFbWj13"
      },
      "outputs": [
        {
          "name": "stdout",
          "output_type": "stream",
          "text": [
            "\n",
            "Column: workclass\n",
            "workclass\n",
            "Private             22696\n",
            "Self-emp-not-inc     2541\n",
            "Local-gov            2093\n",
            "?                    1836\n",
            "State-gov            1298\n",
            "Self-emp-inc         1116\n",
            "Federal-gov           960\n",
            "Without-pay            14\n",
            "Never-worked            7\n",
            "Name: count, dtype: int64\n",
            "\n",
            "Column: education\n",
            "education\n",
            "HS-grad         10501\n",
            "Some-college     7291\n",
            "Bachelors        5355\n",
            "Masters          1723\n",
            "Assoc-voc        1382\n",
            "11th             1175\n",
            "Assoc-acdm       1067\n",
            "10th              933\n",
            "7th-8th           646\n",
            "Prof-school       576\n",
            "Name: count, dtype: int64\n",
            "\n",
            "Column: marital-status\n",
            "marital-status\n",
            "Married-civ-spouse       14976\n",
            "Never-married            10683\n",
            "Divorced                  4443\n",
            "Separated                 1025\n",
            "Widowed                    993\n",
            "Married-spouse-absent      418\n",
            "Married-AF-spouse           23\n",
            "Name: count, dtype: int64\n",
            "\n",
            "Column: occupation\n",
            "occupation\n",
            "Prof-specialty       4140\n",
            "Craft-repair         4099\n",
            "Exec-managerial      4066\n",
            "Adm-clerical         3770\n",
            "Sales                3650\n",
            "Other-service        3295\n",
            "Machine-op-inspct    2002\n",
            "?                    1843\n",
            "Transport-moving     1597\n",
            "Handlers-cleaners    1370\n",
            "Name: count, dtype: int64\n",
            "\n",
            "Column: relationship\n",
            "relationship\n",
            "Husband           13193\n",
            "Not-in-family      8305\n",
            "Own-child          5068\n",
            "Unmarried          3446\n",
            "Wife               1568\n",
            "Other-relative      981\n",
            "Name: count, dtype: int64\n",
            "\n",
            "Column: race\n",
            "race\n",
            "White                 27816\n",
            "Black                  3124\n",
            "Asian-Pac-Islander     1039\n",
            "Amer-Indian-Eskimo      311\n",
            "Other                   271\n",
            "Name: count, dtype: int64\n",
            "\n",
            "Column: sex\n",
            "sex\n",
            "Male      21790\n",
            "Female    10771\n",
            "Name: count, dtype: int64\n",
            "\n",
            "Column: native-country\n",
            "native-country\n",
            "United-States    29170\n",
            "Mexico             643\n",
            "?                  583\n",
            "Philippines        198\n",
            "Germany            137\n",
            "Canada             121\n",
            "Puerto-Rico        114\n",
            "El-Salvador        106\n",
            "India              100\n",
            "Cuba                95\n",
            "Name: count, dtype: int64\n",
            "\n",
            "Column: income\n",
            "income\n",
            "<=50K    24720\n",
            ">50K      7841\n",
            "Name: count, dtype: int64\n"
          ]
        }
      ],
      "source": [
        "# Check value count for each Cateorical column\n",
        "for col in categorical_cols:\n",
        "    print(f\"\\nColumn: {col}\")\n",
        "    print(df[col].value_counts().head(10))"
      ]
    },
    {
      "cell_type": "markdown",
      "metadata": {
        "id": "llNnCP5ko4T5"
      },
      "source": [
        "### **Step 2.8 : Handling Missing Values using SimpleImputer:**\n",
        "\n",
        "Imputation preserves the dataset size while ensuring that no null values interfere with analysis. Different strategies are used for numerical (mean) and categorical (mode) columns based on their characteristics."
      ]
    },
    {
      "cell_type": "code",
      "execution_count": 13,
      "metadata": {
        "id": "BK5ZTqMxW5ki"
      },
      "outputs": [
        {
          "name": "stdout",
          "output_type": "stream",
          "text": [
            "\n",
            "Missing values after imputation:\n",
            "0 missing values remaining.\n"
          ]
        }
      ],
      "source": [
        "# TODO: fill null values either by mean , median  or mode based on type of data\n",
        "\n",
        "# Separate numeric and categorical columns\n",
        "categorical_cols = df.select_dtypes(include='object').columns\n",
        "numerical_cols = df.select_dtypes(include='number').columns\n",
        "\n",
        "# Numeric: fill with mean\n",
        "num_imputer = SimpleImputer(strategy='mean')\n",
        "df[numerical_cols] = num_imputer.fit_transform(df[numerical_cols])\n",
        "\n",
        "# Categorical: fill with most frequent (mode)\n",
        "cat_imputer = SimpleImputer(strategy='most_frequent')\n",
        "df[categorical_cols] = cat_imputer.fit_transform(df[categorical_cols])\n",
        "\n",
        "# Confirm no missing values remain\n",
        "print(\"\\nMissing values after imputation:\")\n",
        "print(df.isnull().sum().sum(), \"missing values remaining.\")\n",
        "\n"
      ]
    },
    {
      "cell_type": "markdown",
      "metadata": {
        "id": "EExEvME4XNq1"
      },
      "source": [
        "# **Step 3 : Converting Data Types and Cleaning Categorical Data**"
      ]
    },
    {
      "cell_type": "markdown",
      "metadata": {
        "id": "q-db-_uPpTJ0"
      },
      "source": [
        "### **Step 3.1 :Removing Leading/Trailing Spaces:**\n",
        "\n",
        "Standardize entries in categorical columns so that no extra spaces lead to misclassification of similar values.\n",
        "\n"
      ]
    },
    {
      "cell_type": "code",
      "execution_count": 14,
      "metadata": {
        "id": "Icg-EEh9X_vu"
      },
      "outputs": [],
      "source": [
        "# Check for leading/trailing spaces in categorical data and remove them\n",
        "for col in df.select_dtypes(include='object').columns:\n",
        "    df[col] = df[col].str.strip()"
      ]
    },
    {
      "cell_type": "markdown",
      "metadata": {
        "id": "dkHbBwQypbOC"
      },
      "source": [
        "### **Step 3.2 : Checking and Converting Data Types:**\n",
        "\n",
        "Ensure that every column is of the correct data type (e.g., IDs as strings, dates as datetime)."
      ]
    },
    {
      "cell_type": "code",
      "execution_count": 15,
      "metadata": {
        "id": "dDPXmI9sYCIr"
      },
      "outputs": [],
      "source": [
        "# Check the data type of each column and if wrong datatype convert it to the suitable datatype\n",
        "if df['income'].dtype != 'category':\n",
        "    df['income'] = df['income'].astype('category')"
      ]
    },
    {
      "cell_type": "markdown",
      "metadata": {
        "id": "HAVw1LLUpiaB"
      },
      "source": [
        "### **3.3 : Converting to 'category' Datatype:**\n",
        "\n",
        "Transform columns that represent categorical data (like Gender or Embarked port) into the 'category' type to optimize memory and computational performance."
      ]
    },
    {
      "cell_type": "code",
      "execution_count": 17,
      "metadata": {
        "id": "sY775ImqYRv2"
      },
      "outputs": [
        {
          "name": "stdout",
          "output_type": "stream",
          "text": [
            "age                float64\n",
            "workclass         category\n",
            "fnlwgt             float64\n",
            "education         category\n",
            "education-num      float64\n",
            "marital-status    category\n",
            "occupation        category\n",
            "relationship      category\n",
            "race              category\n",
            "sex               category\n",
            "capital-gain       float64\n",
            "capital-loss       float64\n",
            "hours-per-week     float64\n",
            "native-country    category\n",
            "income            category\n",
            "dtype: object\n"
          ]
        }
      ],
      "source": [
        "# Convert suitable columns to 'category' datatype\n",
        "for col in df.select_dtypes(include='object').columns:\n",
        "    df[col] = df[col].astype('category')\n",
        "\n",
        "print(df.dtypes)    "
      ]
    },
    {
      "cell_type": "markdown",
      "metadata": {
        "id": "DbwoPFYddrWL"
      },
      "source": [
        "# **Step 4 : Feature Engineering**"
      ]
    },
    {
      "cell_type": "markdown",
      "metadata": {
        "id": "ukKqYOPVpuLr"
      },
      "source": [
        "### **Step 4.1 : Creating \"age_group\" Feature:**\n",
        "\n",
        "Binning converts continuous age values into meaningful categories (e.g., 'Young', 'Adult') that are easier to analyze and interpret."
      ]
    },
    {
      "cell_type": "code",
      "execution_count": 18,
      "metadata": {
        "id": "VHiOa7f_dzKh"
      },
      "outputs": [
        {
          "name": "stdout",
          "output_type": "stream",
          "text": [
            "\n",
            " Age Group Distribution:\n",
            "age_group\n",
            "Adult          16523\n",
            "Middle-Aged     8469\n",
            "Young           6411\n",
            "Senior          1158\n",
            "Name: count, dtype: int64\n"
          ]
        }
      ],
      "source": [
        "# create feature \"age_group\" age categories using binning\n",
        "bins = [0, 25, 45, 65, np.inf]\n",
        "labels = ['Young', 'Adult', 'Middle-Aged', 'Senior']\n",
        "\n",
        "df['age_group'] = pd.cut(df['age'], bins=bins, labels=labels)\n",
        "\n",
        "\n",
        "print(\"\\n Age Group Distribution:\")\n",
        "print(df['age_group'].value_counts())"
      ]
    },
    {
      "cell_type": "markdown",
      "metadata": {
        "id": "IWKoxWFup3KB"
      },
      "source": [
        "### **Step 4.2 : Creating \"education_hours_interaction\" Feature:**\n",
        "\n",
        "Interaction features help capture complex relationships between variables. In this case, the interaction between education (via 'education-num') and work intensity ('hours-per-week') may reveal underlying patterns related to social or economic outcomes."
      ]
    },
    {
      "cell_type": "code",
      "execution_count": 19,
      "metadata": {
        "id": "HJp0nf9CeXJu"
      },
      "outputs": [
        {
          "name": "stdout",
          "output_type": "stream",
          "text": [
            "\n",
            " Sample of 'education_hours_interaction':\n",
            "   education-num  hours-per-week  education_hours_interaction\n",
            "0           13.0            40.0                        520.0\n",
            "1           13.0            13.0                        169.0\n",
            "2            9.0            40.0                        360.0\n",
            "3            7.0            40.0                        280.0\n",
            "4           13.0            40.0                        520.0\n"
          ]
        }
      ],
      "source": [
        "# Create an interaction feature \"education_hours_interaction\": education-num multiplied by hours-per-week (as a proxy for workload vs. education level)\n",
        "df['education_hours_interaction'] = df['education-num'] * df['hours-per-week']\n",
        "\n",
        "# Preview to verify\n",
        "print(\"\\n Sample of 'education_hours_interaction':\")\n",
        "print(df[['education-num', 'hours-per-week', 'education_hours_interaction']].head())"
      ]
    },
    {
      "cell_type": "markdown",
      "metadata": {
        "id": "9aCin-YDYSPt"
      },
      "source": [
        "# **Step 5 : Encoding Categorical Data**"
      ]
    },
    {
      "cell_type": "markdown",
      "metadata": {
        "id": "o8fRRNwpqXYE"
      },
      "source": [
        "**One-Hot Encoding:** Converts multiple categorical values into binary columns to prevent ordinality.\n"
      ]
    },
    {
      "cell_type": "code",
      "execution_count": 20,
      "metadata": {
        "id": "oZY0ypZfYb1C"
      },
      "outputs": [
        {
          "name": "stdout",
          "output_type": "stream",
          "text": [
            "One-hot encoding completed. Current shape: (32561, 105)\n"
          ]
        }
      ],
      "source": [
        "# One-hot encode the categorical columns (sex, workclass, education, etc.).\n",
        "categorical_cols = df.select_dtypes(include='category').columns.drop('income')\n",
        "\n",
        "df = pd.get_dummies(df, columns=categorical_cols, drop_first=True)\n",
        "\n",
        "print(\"One-hot encoding completed. Current shape:\", df.shape)\n"
      ]
    },
    {
      "cell_type": "markdown",
      "metadata": {
        "id": "nVEycZ3hqcpL"
      },
      "source": [
        "\n",
        "**Label Encoding for Income:** Maps income to binary labels for binary classification tasks."
      ]
    },
    {
      "cell_type": "code",
      "execution_count": 21,
      "metadata": {
        "id": "-ltaHLaqYoQW"
      },
      "outputs": [
        {
          "name": "stdout",
          "output_type": "stream",
          "text": [
            " Income column label-encoded.\n",
            "income\n",
            "0    24720\n",
            "1     7841\n",
            "Name: count, dtype: int64\n"
          ]
        }
      ],
      "source": [
        "# Use label encoding for the income column, converting ≤50K to 0 and 50K to 1.\n",
        "# Convert income into binary labels\n",
        "df['income'] = df['income'].map({'<=50K': 0, '>50K': 1}).astype(int)\n",
        "\n",
        "print(\" Income column label-encoded.\")\n",
        "print(df['income'].value_counts())\n"
      ]
    },
    {
      "cell_type": "markdown",
      "metadata": {
        "id": "aD2o-DGiYnQy"
      },
      "source": [
        "# **Step 6 : Normalization and Standardization**"
      ]
    },
    {
      "cell_type": "markdown",
      "metadata": {
        "id": "qikbvxtLqicN"
      },
      "source": [
        "Standardization transforms the specified columns to a mean of 0 and a standard deviation of 1, which is important to ensure comparability among numerical features during model training."
      ]
    },
    {
      "cell_type": "code",
      "execution_count": 22,
      "metadata": {
        "id": "zsagvJU5ZNvS"
      },
      "outputs": [
        {
          "name": "stdout",
          "output_type": "stream",
          "text": [
            "Standardization complete. Here's a quick look:\n",
            "            age  hours-per-week  capital-gain  capital-loss\n",
            "count  32561.00        32561.00      32561.00      32561.00\n",
            "mean      -0.00           -0.00          0.00          0.00\n",
            "std        1.00            1.00          1.00          1.00\n",
            "min       -1.58           -3.19         -0.15         -0.22\n",
            "25%       -0.78           -0.04         -0.15         -0.22\n",
            "50%       -0.12           -0.04         -0.15         -0.22\n",
            "75%        0.69            0.37         -0.15         -0.22\n",
            "max        3.77            4.74         13.39         10.59\n"
          ]
        }
      ],
      "source": [
        "# Standardize the \"age\", \"hours-per-week\", \"capital-gain\" and \"capital-loss\" column to have a mean of 0 and a standard deviation of 1.\n",
        "from sklearn.preprocessing import StandardScaler\n",
        "numeric_cols = ['age', 'hours-per-week', 'capital-gain', 'capital-loss']\n",
        "\n",
        "# Initialize and apply the scaler\n",
        "scaler = StandardScaler()\n",
        "df[numeric_cols] = scaler.fit_transform(df[numeric_cols])\n",
        "\n",
        "print(\"Standardization complete. Here's a quick look:\")\n",
        "print(df[numeric_cols].describe().round(2))"
      ]
    },
    {
      "cell_type": "code",
      "execution_count": null,
      "metadata": {},
      "outputs": [],
      "source": []
    }
  ],
  "metadata": {
    "colab": {
      "provenance": []
    },
    "kernelspec": {
      "display_name": "base",
      "language": "python",
      "name": "python3"
    },
    "language_info": {
      "codemirror_mode": {
        "name": "ipython",
        "version": 3
      },
      "file_extension": ".py",
      "mimetype": "text/x-python",
      "name": "python",
      "nbconvert_exporter": "python",
      "pygments_lexer": "ipython3",
      "version": "3.12.4"
    }
  },
  "nbformat": 4,
  "nbformat_minor": 0
}
