{
 "cells": [
  {
   "cell_type": "markdown",
   "metadata": {},
   "source": [
    "BFS Function to traverse a Maze"
   ]
  },
  {
   "cell_type": "code",
   "execution_count": 1,
   "metadata": {},
   "outputs": [],
   "source": [
    "from collections import deque\n",
    "\n",
    "def bfs_maze(maze):\n",
    "    # Get the dimensions of the maze\n",
    "    n, m = len(maze), len(maze[0])\n",
    "    \n",
    "    # Directions for movement (right, left, down, up)\n",
    "    directions = [(0, 1), (0, -1), (1, 0), (-1, 0)]\n",
    "    \n",
    "    # Queue to store the cells to explore, starting with the start cell\n",
    "    frontier = deque([(0, 0, 1)])  # (row, col, distance)\n",
    "    \n",
    "    # Visited matrix to keep track of visited nodes\n",
    "    visited = [[False for _ in range(m)] for _ in range(n)]\n",
    "    \n",
    "    # Check if start or goal is blocked\n",
    "    if maze[0][0] == 1 or maze[n-1][m-1] == 1:\n",
    "        return -1\n",
    "    \n",
    "    # Mark the start cell as visited\n",
    "    visited[0][0] = True\n",
    "    \n",
    "    # Perform BFS\n",
    "    while frontier:\n",
    "        row, col, dist = frontier.popleft()\n",
    "        \n",
    "        # If we've reached the goal, return the distance\n",
    "        if row == n-1 and col == m-1:\n",
    "            return dist\n",
    "        \n",
    "        # Explore all four possible directions\n",
    "        for dr, dc in directions:\n",
    "            new_row, new_col = row + dr, col + dc\n",
    "            \n",
    "            # Check if the new position is within bounds and not blocked or visited\n",
    "            if 0 <= new_row < n and 0 <= new_col < m and not visited[new_row][new_col] and maze[new_row][new_col] == 0:\n",
    "                # Mark the cell as visited\n",
    "                visited[new_row][new_col] = True\n",
    "                # Add the new position to the frontier with incremented distance\n",
    "                frontier.append((new_row, new_col, dist + 1))\n",
    "    \n",
    "    # If the goal was not reached, return -1\n",
    "    return -1\n",
    "\n",
    "# Example usage\n"
   ]
  },
  {
   "cell_type": "code",
   "execution_count": 2,
   "metadata": {},
   "outputs": [
    {
     "name": "stdout",
     "output_type": "stream",
     "text": [
      "BFS Result: 9\n"
     ]
    }
   ],
   "source": [
    "maze = [\n",
    "    [0, 1, 0, 0, 0],\n",
    "    [0, 1, 0, 1, 0],\n",
    "    [0, 0, 0, 1, 0],\n",
    "    [1, 1, 0, 1, 0],\n",
    "    [0, 0, 0, 0, 0]\n",
    "]\n",
    "\n",
    "result = bfs_maze(maze)\n",
    "print(\"BFS Result:\", result)\n"
   ]
  },
  {
   "cell_type": "markdown",
   "metadata": {},
   "source": [
    "DFS implementation\n"
   ]
  },
  {
   "cell_type": "code",
   "execution_count": 3,
   "metadata": {},
   "outputs": [],
   "source": [
    "def dfs_agent_maze(maze):\n",
    "    # Dimensions of the maze\n",
    "    n, m = len(maze), len(maze[0])\n",
    "    \n",
    "    # Possible movements for the agent: right, left, down, up\n",
    "    directions = [(0, 1), (0, -1), (1, 0), (-1, 0)]\n",
    "    \n",
    "    # Stack for DFS containing tuples of (row, col, steps)\n",
    "    stack = [(0, 0, 1)]  # (row, col, steps)\n",
    "    \n",
    "    # Initialize the visited matrix to track where the agent has been\n",
    "    visited = [[False for _ in range(m)] for _ in range(n)]\n",
    "    \n",
    "    # Check if the start or goal is blocked\n",
    "    if maze[0][0] == 1 or maze[n-1][m-1] == 1:\n",
    "        return -1\n",
    "    \n",
    "    # Mark the agent's starting position as visited\n",
    "    visited[0][0] = True\n",
    "    \n",
    "    # Perform DFS to explore the maze\n",
    "    while stack:\n",
    "        # Pop the current position of the agent from the stack\n",
    "        row, col, steps = stack.pop()\n",
    "        \n",
    "        # Check if the agent has reached the goal\n",
    "        if row == n-1 and col == m-1:\n",
    "            return steps\n",
    "        \n",
    "        # Explore neighboring cells\n",
    "        for dr, dc in directions:\n",
    "            new_row, new_col = row + dr, col + dc\n",
    "            \n",
    "            # Check if the new position is within bounds, not visited, and not blocked\n",
    "            if 0 <= new_row < n and 0 <= new_col < m and not visited[new_row][new_col] and maze[new_row][new_col] == 0:\n",
    "                # Mark the new position as visited\n",
    "                visited[new_row][new_col] = True\n",
    "                \n",
    "                # Add the new position to the agent's stack for further exploration\n",
    "                stack.append((new_row, new_col, steps + 1))\n",
    "    \n",
    "    # If the agent can't reach the goal, return -1\n",
    "    return -1\n"
   ]
  },
  {
   "cell_type": "code",
   "execution_count": 4,
   "metadata": {},
   "outputs": [
    {
     "name": "stdout",
     "output_type": "stream",
     "text": [
      "DFS Result: 13\n"
     ]
    }
   ],
   "source": [
    "maze = [\n",
    "    [0, 1, 0, 0, 0],\n",
    "    [0, 1, 0, 1, 0],\n",
    "    [0, 0, 0, 1, 0],\n",
    "    [1, 1, 0, 1, 0],\n",
    "    [0, 0, 0, 0, 0]\n",
    "]\n",
    "\n",
    "result = dfs_agent_maze(maze)\n",
    "print(\"DFS Result:\", result)\n"
   ]
  },
  {
   "cell_type": "markdown",
   "metadata": {},
   "source": [
    "IDDFS"
   ]
  },
  {
   "cell_type": "code",
   "execution_count": 5,
   "metadata": {},
   "outputs": [],
   "source": [
    "def dfs_limited(maze, row, col, steps, limit, visited, directions):\n",
    "    n, m = len(maze), len(maze[0])\n",
    "    \n",
    "    # If the agent has reached the goal, return the steps taken\n",
    "    if row == n-1 and col == m-1:\n",
    "        return steps\n",
    "    \n",
    "    # If the current depth exceeds the limit, stop exploring further\n",
    "    if steps > limit:\n",
    "        return -1\n",
    "    \n",
    "    # Explore all possible directions\n",
    "    for dr, dc in directions:\n",
    "        new_row, new_col = row + dr, col + dc\n",
    "        \n",
    "        # Check if the new position is within bounds, not visited, and not blocked\n",
    "        if 0 <= new_row < n and 0 <= new_col < m and not visited[new_row][new_col] and maze[new_row][new_col] == 0:\n",
    "            # Mark the new position as visited\n",
    "            visited[new_row][new_col] = True\n",
    "            \n",
    "            # Recursively perform DFS with depth limit\n",
    "            result = dfs_limited(maze, new_row, new_col, steps + 1, limit, visited, directions)\n",
    "            \n",
    "            # If a valid path is found, return the result\n",
    "            if result != -1:\n",
    "                return result\n",
    "            \n",
    "            # Backtrack (unmark the position as visited)\n",
    "            visited[new_row][new_col] = False\n",
    "    \n",
    "    # If no path is found within the current depth limit, return -1\n",
    "    return -1\n",
    "\n",
    "def iddfs_agent_maze(maze):\n",
    "    # Dimensions of the maze\n",
    "    n, m = len(maze), len(maze[0])\n",
    "    \n",
    "    # Possible movements for the agent: right, left, down, up\n",
    "    directions = [(0, 1), (0, -1), (1, 0), (-1, 0)]\n",
    "    \n",
    "    # Check if the start or goal is blocked\n",
    "    if maze[0][0] == 1 or maze[n-1][m-1] == 1:\n",
    "        return -1\n",
    "    \n",
    "    # Iteratively increase the depth limit\n",
    "    for depth_limit in range(n * m):\n",
    "        # Initialize the visited matrix to track where the agent has been\n",
    "        visited = [[False for _ in range(m)] for _ in range(n)]\n",
    "        \n",
    "        # Mark the agent's starting position as visited\n",
    "        visited[0][0] = True\n",
    "        \n",
    "        # Perform DFS with the current depth limit\n",
    "        result = dfs_limited(maze, 0, 0, 1, depth_limit, visited, directions)\n",
    "        \n",
    "        # If a valid path is found, return the result\n",
    "        if result != -1:\n",
    "            return result\n",
    "    \n",
    "    # If no path is found after exploring all depths, return -1\n",
    "    return -1\n"
   ]
  },
  {
   "cell_type": "code",
   "execution_count": 6,
   "metadata": {},
   "outputs": [
    {
     "name": "stdout",
     "output_type": "stream",
     "text": [
      "IDDFS Result: 9\n"
     ]
    }
   ],
   "source": [
    "maze = [\n",
    "    [0, 1, 0, 0, 0],\n",
    "    [0, 1, 0, 1, 0],\n",
    "    [0, 0, 0, 1, 0],\n",
    "    [1, 1, 0, 1, 0],\n",
    "    [0, 0, 0, 0, 0]\n",
    "]\n",
    "\n",
    "result = iddfs_agent_maze(maze)\n",
    "print(\"IDDFS Result:\", result)\n"
   ]
  },
  {
   "cell_type": "markdown",
   "metadata": {},
   "source": [
    "Testing each algorithm on a maze"
   ]
  },
  {
   "cell_type": "code",
   "execution_count": 7,
   "metadata": {},
   "outputs": [
    {
     "name": "stdout",
     "output_type": "stream",
     "text": [
      "MAZE 1 --------------------\n",
      "9\n",
      "13\n",
      "9\n",
      "MAZE 2 --------------------\n",
      "9\n",
      "11\n",
      "9\n",
      "MAZE 3 --------------------\n",
      "11\n",
      "11\n",
      "11\n"
     ]
    }
   ],
   "source": [
    "maze1 = [\n",
    "    [0, 1, 0, 0, 0],\n",
    "    [0, 1, 0, 1, 0],\n",
    "    [0, 0, 0, 1, 0],\n",
    "    [1, 1, 0, 1, 0],\n",
    "    [0, 0, 0, 0, 0]\n",
    "]\n",
    "maze2 = [\n",
    "    [0, 0, 0, 0, 0],\n",
    "    [0, 1, 1, 1, 0],\n",
    "    [0, 1, 0, 1, 0],\n",
    "    [0, 1, 0, 0, 0],\n",
    "    [0, 0, 0, 1, 0]\n",
    "]\n",
    "maze3 = [\n",
    "    [0, 0, 1, 0, 0, 0],\n",
    "    [1, 0, 1, 0, 1, 0],\n",
    "    [1, 0, 0, 0, 1, 0],\n",
    "    [1, 1, 0, 1, 0, 0],\n",
    "    [0, 0, 0, 0, 0, 0],\n",
    "    [0, 1, 1, 1, 1, 0]\n",
    "]\n",
    "#BFS\n",
    "print('MAZE 1 --------------------')\n",
    "print(bfs_maze(maze1))  # Output: 9\n",
    "print(dfs_agent_maze(maze1))\n",
    "print(iddfs_agent_maze(maze1))\n",
    "print('MAZE 2 --------------------')\n",
    "print(bfs_maze(maze2))\n",
    "print(dfs_agent_maze(maze2))\n",
    "print(iddfs_agent_maze(maze2))\n",
    "print('MAZE 3 --------------------')\n",
    "print(bfs_maze(maze3))  # Output: 9\n",
    "print(dfs_agent_maze(maze3))\n",
    "print(iddfs_agent_maze(maze3))\n",
    "#DFS\n",
    "#IDDFS\n"
   ]
  },
  {
   "cell_type": "code",
   "execution_count": null,
   "metadata": {},
   "outputs": [],
   "source": []
  }
 ],
 "metadata": {
  "kernelspec": {
   "display_name": "Python 3 (ipykernel)",
   "language": "python",
   "name": "python3"
  },
  "language_info": {
   "codemirror_mode": {
    "name": "ipython",
    "version": 3
   },
   "file_extension": ".py",
   "mimetype": "text/x-python",
   "name": "python",
   "nbconvert_exporter": "python",
   "pygments_lexer": "ipython3",
   "version": "3.12.6"
  }
 },
 "nbformat": 4,
 "nbformat_minor": 2
}
